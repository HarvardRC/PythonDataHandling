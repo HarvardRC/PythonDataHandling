{
 "cells": [
  {
   "cell_type": "markdown",
   "metadata": {},
   "source": [
    "# Data Handling in Python Workshop | University Research Computing\n",
    "#### Instructor: Mahmood M. Shad | University Research Computing \n",
    "#### Date: 04/05/2023\n",
    "\n",
    "#### Resources:\n",
    "- [Python for Data Analysis](https://www.oreilly.com/library/view/python-for-data/9781491957653/)\n",
    "- [Parallel Computing on FASRC CANNON Cluster](https://docs.rc.fas.harvard.edu/kb/parallel-computing-on-odyssey/)"
   ]
  },
  {
   "cell_type": "markdown",
   "metadata": {},
   "source": [
    "## List of Topics\n",
    "- Python Data Types: Collections\n",
    "- File I/O\n",
    "- Parallel Data Processing"
   ]
  },
  {
   "cell_type": "markdown",
   "metadata": {},
   "source": [
    "### Python Data Types: Collections\n",
    "#### List Comprehensions"
   ]
  },
  {
   "cell_type": "code",
   "execution_count": 1,
   "metadata": {},
   "outputs": [
    {
     "name": "stdout",
     "output_type": "stream",
     "text": [
      "CPU times: user 4 µs, sys: 1 µs, total: 5 µs\n",
      "Wall time: 8.82 µs\n",
      "CPU times: user 8 µs, sys: 3 µs, total: 11 µs\n",
      "Wall time: 12.2 µs\n",
      "True\n"
     ]
    }
   ],
   "source": [
    "# Build sequences from other sequences\n",
    "\n",
    "l = [1, '4', 9, 'a', 0, 4, 'b', '5', 11, 'aa', 'bb', 7]\n",
    "\n",
    "%time res1 = [ x**2 for x in l if isinstance(x, int) ]\n",
    "\n",
    "# x**2                       :: output expression\n",
    "# x                          :: variable\n",
    "# l                          :: input sequence\n",
    "# if isinstance(x, int)      :: optional predicate\n",
    "\n",
    "\n",
    "# NOTE: Same results by map, filter, lambda\n",
    "# lambda(variable : equation, list)\n",
    "\n",
    "%time res2 = list(map(lambda x: x**2, filter(lambda x: isinstance(x, int), l)))\n",
    "\n",
    "\n",
    "print(res1 == res2)"
   ]
  },
  {
   "cell_type": "markdown",
   "metadata": {},
   "source": [
    "Please Note:   \n",
    "**Wall time** means that a clock hanging on a wall outside of the computer would measure X ms from the time the code was submitted to the CPU to the time when the process completed.\n",
    "\n",
    "**User time** and sys time both refer to time taken by the CPU to actually work on the code. The CPU time dedicated to our code is only a fraction of the wall time as the CPU swaps its attention from our code to other processes that are running on the system.\n",
    "\n",
    "**User time** is the amount of CPU time taken outside of the kernel.\n",
    "\n",
    "**Sys time** is the amount of time taken inside of the kernel. \n",
    "\n",
    "**Total** CPU time is user time + sys time."
   ]
  },
  {
   "cell_type": "code",
   "execution_count": 2,
   "metadata": {},
   "outputs": [
    {
     "name": "stdout",
     "output_type": "stream",
     "text": [
      "640 ns ± 8.69 ns per loop (mean ± std. dev. of 7 runs, 1,000,000 loops each)\n",
      "1.33 µs ± 7.01 ns per loop (mean ± std. dev. of 7 runs, 1,000,000 loops each)\n"
     ]
    }
   ],
   "source": [
    "# %timeit vs %time\n",
    "l = [1, '4', 9, 'a', 0, 4, 'b', '5', 11, 'aa', 'bb', 7]\n",
    "\n",
    "%timeit res1 = [ x**2 for x in l if isinstance(x, int) ]\n",
    "%timeit res2 = list(map(lambda x: x**2, filter(lambda x: isinstance(x, int), l)))\n"
   ]
  },
  {
   "cell_type": "code",
   "execution_count": 3,
   "metadata": {
    "scrolled": true
   },
   "outputs": [
    {
     "name": "stdout",
     "output_type": "stream",
     "text": [
      "time the whole cell using %%time built-in function\n",
      "True\n",
      "CPU times: user 230 µs, sys: 0 ns, total: 230 µs\n",
      "Wall time: 179 µs\n"
     ]
    }
   ],
   "source": [
    "%%time\n",
    "\n",
    "print(\"time the whole cell using %%time built-in function\")\n",
    "l = [1, '4', 9, 'a', 0, 4, 'b', '5', 11, 'aa', 'bb', 7]\n",
    "\n",
    "res1 = [ x**2 for x in l if isinstance(x, int) ]\n",
    "res2 = list(map(lambda x: x**2, filter(lambda x: isinstance(x, int), l)))\n",
    "print(res1 == res2)"
   ]
  },
  {
   "cell_type": "code",
   "execution_count": 4,
   "metadata": {},
   "outputs": [
    {
     "name": "stdout",
     "output_type": "stream",
     "text": [
      "profile the whole cell using %%prun built-in function\n",
      "True\n",
      " "
     ]
    },
    {
     "data": {
      "text/plain": [
       "         82 function calls in 0.001 seconds\n",
       "\n",
       "   Ordered by: internal time\n",
       "\n",
       "   ncalls  tottime  percall  cumtime  percall filename:lineno(function)\n",
       "        1    0.000    0.000    0.001    0.001 {built-in method builtins.exec}\n",
       "        4    0.000    0.000    0.000    0.000 iostream.py:535(write)\n",
       "        1    0.000    0.000    0.000    0.000 iostream.py:203(schedule)\n",
       "        1    0.000    0.000    0.000    0.000 <string>:1(<module>)\n",
       "        1    0.000    0.000    0.000    0.000 socket.py:613(send)\n",
       "        2    0.000    0.000    0.000    0.000 {built-in method builtins.print}\n",
       "        1    0.000    0.000    0.000    0.000 threading.py:1185(is_alive)\n",
       "        4    0.000    0.000    0.000    0.000 iostream.py:465(_schedule_flush)\n",
       "        4    0.000    0.000    0.000    0.000 iostream.py:444(_is_master_process)\n",
       "        1    0.000    0.000    0.000    0.000 <string>:4(<listcomp>)\n",
       "       28    0.000    0.000    0.000    0.000 {built-in method builtins.isinstance}\n",
       "       12    0.000    0.000    0.000    0.000 <string>:5(<lambda>)\n",
       "        1    0.000    0.000    0.000    0.000 threading.py:1118(_wait_for_tstate_lock)\n",
       "        4    0.000    0.000    0.000    0.000 {method 'write' of '_io.StringIO' objects}\n",
       "        1    0.000    0.000    0.000    0.000 iostream.py:90(_event_pipe)\n",
       "        4    0.000    0.000    0.000    0.000 {method '__exit__' of '_thread.RLock' objects}\n",
       "        4    0.000    0.000    0.000    0.000 {built-in method posix.getpid}\n",
       "        1    0.000    0.000    0.000    0.000 {method 'acquire' of '_thread.lock' objects}\n",
       "        4    0.000    0.000    0.000    0.000 {built-in method builtins.len}\n",
       "        1    0.000    0.000    0.000    0.000 {method 'disable' of '_lsprof.Profiler' objects}\n",
       "        1    0.000    0.000    0.000    0.000 threading.py:568(is_set)\n",
       "        1    0.000    0.000    0.000    0.000 {method 'append' of 'collections.deque' objects}"
      ]
     },
     "metadata": {},
     "output_type": "display_data"
    }
   ],
   "source": [
    "%%prun\n",
    "\n",
    "print(\"profile the whole cell using %%prun built-in function\")\n",
    "l = [1, '4', 9, 'a', 0, 4, 'b', '5', 11, 'aa', 'bb', 7]\n",
    "\n",
    "res1 = [ x**2 for x in l if isinstance(x, int) ]\n",
    "res2 = list(map(lambda x: x**2, filter(lambda x: isinstance(x, int), l)))\n",
    "print(res1 == res2)"
   ]
  },
  {
   "cell_type": "markdown",
   "metadata": {},
   "source": [
    "**ncalls** : the number of calls,\n",
    "\n",
    "**tottime** : the total time spent in the given function (and excluding time made in calls to sub-functions),\n",
    "\n",
    "**percall** : the quotient of *tottime* divided by *ncalls*\n",
    "\n",
    "**cumtime** : the total time spent in this and all subfunctions (from invocation till exit). This figure is accurate even for recursive functions.\n",
    "\n",
    "**percall** is the quotient of *cumtime* divided by primitive calls"
   ]
  },
  {
   "cell_type": "markdown",
   "metadata": {},
   "source": [
    "**NOTE:** Read more about the built-in magic commands in `IPython` [here](https://ipython.readthedocs.io/en/stable/interactive/magics.html). "
   ]
  },
  {
   "cell_type": "code",
   "execution_count": 5,
   "metadata": {},
   "outputs": [],
   "source": [
    "# Load an IPython extension by its module name.\n",
    "%load_ext snakeviz"
   ]
  },
  {
   "cell_type": "code",
   "execution_count": 6,
   "metadata": {},
   "outputs": [],
   "source": [
    "def test():\n",
    "    l = [1, '4', 9, 'a', 0, 4, 'b', '5', 11, 'aa', 'bb', 7]\n",
    "\n",
    "    res1 = [ x**2 for x in l if isinstance(x, int) ]\n",
    "    res2 = list(map(lambda x: x**2, filter(lambda x: isinstance(x, int), l)))\n",
    "    print(res1 == res2)"
   ]
  },
  {
   "cell_type": "code",
   "execution_count": 7,
   "metadata": {},
   "outputs": [
    {
     "name": "stdout",
     "output_type": "stream",
     "text": [
      "True\n",
      " \n",
      "*** Profile stats marshalled to file '/tmp/tmp14qh8slc'.\n",
      "Embedding SnakeViz in this document...\n"
     ]
    },
    {
     "data": {
      "text/html": [
       "\n",
       "<iframe id='snakeviz-fb3cc8d4-d349-11ed-8fa2-8c0f6f7f6fc9' frameborder=0 seamless width='100%' height='1000'></iframe>\n",
       "<script>document.getElementById(\"snakeviz-fb3cc8d4-d349-11ed-8fa2-8c0f6f7f6fc9\").setAttribute(\"src\", \"http://\" + document.location.hostname + \":8080/snakeviz/%2Ftmp%2Ftmp14qh8slc\")</script>\n"
      ],
      "text/plain": [
       "<IPython.core.display.HTML object>"
      ]
     },
     "metadata": {},
     "output_type": "display_data"
    }
   ],
   "source": [
    "%snakeviz test()"
   ]
  },
  {
   "cell_type": "code",
   "execution_count": 8,
   "metadata": {},
   "outputs": [
    {
     "name": "stdout",
     "output_type": "stream",
     "text": [
      "CPU times: user 166 µs, sys: 0 ns, total: 166 µs\n",
      "Wall time: 174 µs\n"
     ]
    },
    {
     "data": {
      "text/plain": [
       "[(1, 4), (2, 5), (3, 6)]"
      ]
     },
     "execution_count": 8,
     "metadata": {},
     "output_type": "execute_result"
    }
   ],
   "source": [
    "%%time\n",
    "\n",
    "# Nested Comprehensions\n",
    "[ [ 1 if i == row_i else 0 for i in range(0, 10) ] for row_i in range(0, 10) ]\n",
    "\n",
    "# Use zip() to work with two or more elements at a time\n",
    "[(v,w) for v,w in zip([1,2,3], [4,5,6])]"
   ]
  },
  {
   "cell_type": "markdown",
   "metadata": {},
   "source": [
    "#### Set Comprehensions\n",
    "Similar to list comprehensions but it outputs sets."
   ]
  },
  {
   "cell_type": "code",
   "execution_count": 9,
   "metadata": {},
   "outputs": [
    {
     "name": "stdout",
     "output_type": "stream",
     "text": [
      "{0, 1, 4, 5, 9, 'bb', 'aa'}\n"
     ]
    }
   ],
   "source": [
    "l = [1, 4, 9, 'aa', 0, 4, 'bb', 5, 5, 'aa', 'bb', 1]\n",
    "res = {i for i in l}\n",
    "print(res)"
   ]
  },
  {
   "cell_type": "markdown",
   "metadata": {},
   "source": [
    "#### Dictionary Comprehensions\n",
    "Similar to list comprehensions but it outputs dictionaries."
   ]
  },
  {
   "cell_type": "code",
   "execution_count": 10,
   "metadata": {},
   "outputs": [
    {
     "name": "stdout",
     "output_type": "stream",
     "text": [
      "{'b': 20, 'c': 40, 'B': 50, 'Z': 30}\n",
      "{'b': 70, 'c': 40, 'z': 30}\n"
     ]
    }
   ],
   "source": [
    "# Get frequency of keys and ignore lowercase/uppercase\n",
    "d = {'b':20, 'c': 40, 'B': 50, 'Z':30}\n",
    "\n",
    "d_freq = { i.lower() : d.get(i.lower(), 0) + d.get(i.upper(), 0) for i in d.keys() }\n",
    "\n",
    "print(d)\n",
    "print(d_freq)"
   ]
  },
  {
   "cell_type": "markdown",
   "metadata": {},
   "source": [
    "#### Function map(), apply(), applymap()"
   ]
  },
  {
   "cell_type": "code",
   "execution_count": 11,
   "metadata": {},
   "outputs": [
    {
     "name": "stdout",
     "output_type": "stream",
     "text": [
      "CPU times: user 5.28 ms, sys: 4.03 ms, total: 9.31 ms\n",
      "Wall time: 9.25 ms\n",
      "CPU times: user 5.08 ms, sys: 1.01 ms, total: 6.08 ms\n",
      "Wall time: 5.86 ms\n",
      "[['c', 'a', 't'], ['d', 'o', 'g'], ['b', 'i', 'r', 'd'], ['h', 'o', 'r', 's', 'e']]\n"
     ]
    }
   ],
   "source": [
    "def xsq(x):\n",
    "    return x**2\n",
    "\n",
    "l1 = [i for i in range(10**5)]\n",
    "\n",
    "%time list(map(xsq, l1))\n",
    "%time list(map(lambda x: x**2, l1))\n",
    "\n",
    "\n",
    "l2 = ['cat', 'dog', 'bird', 'horse']\n",
    "print(list(map(list,l2)))"
   ]
  },
  {
   "cell_type": "code",
   "execution_count": 12,
   "metadata": {},
   "outputs": [
    {
     "name": "stdout",
     "output_type": "stream",
     "text": [
      "0      5.10\n",
      "1      4.90\n",
      "2      4.70\n",
      "3      4.60\n",
      "4      5.00\n",
      "       ... \n",
      "145    6.70\n",
      "146    6.30\n",
      "147    6.50\n",
      "148    6.20\n",
      "149    5.90\n",
      "Length: 150, dtype: object\n",
      "CPU times: user 2.16 ms, sys: 5 µs, total: 2.16 ms\n",
      "Wall time: 2.16 ms\n",
      "0      5.10\n",
      "1      4.90\n",
      "2      4.70\n",
      "3      4.60\n",
      "4      5.00\n",
      "       ... \n",
      "145    6.70\n",
      "146    6.30\n",
      "147    6.50\n",
      "148    6.20\n",
      "149    5.90\n",
      "Name: sepal_length, Length: 150, dtype: object\n",
      "CPU times: user 1.03 ms, sys: 1 µs, total: 1.04 ms\n",
      "Wall time: 1.01 ms\n",
      "    sepal_length sepal_width petal_length petal_width\n",
      "0           5.10        3.50         1.40        0.20\n",
      "1           4.90        3.00         1.40        0.20\n",
      "2           4.70        3.20         1.30        0.20\n",
      "3           4.60        3.10         1.50        0.20\n",
      "4           5.00        3.60         1.40        0.20\n",
      "..           ...         ...          ...         ...\n",
      "145         6.70        3.00         5.20        2.30\n",
      "146         6.30        2.50         5.00        1.90\n",
      "147         6.50        3.00         5.20        2.00\n",
      "148         6.20        3.40         5.40        2.30\n",
      "149         5.90        3.00         5.10        1.80\n",
      "\n",
      "[150 rows x 4 columns]\n",
      "CPU times: user 3.84 ms, sys: 978 µs, total: 4.82 ms\n",
      "Wall time: 14.5 ms\n",
      "sepal_length    3.6\n",
      "sepal_width     2.4\n",
      "petal_length    5.9\n",
      "petal_width     2.4\n",
      "dtype: float64\n",
      "CPU times: user 1.29 ms, sys: 0 ns, total: 1.29 ms\n",
      "Wall time: 1.3 ms\n"
     ]
    }
   ],
   "source": [
    "# dataframe map\n",
    "import pandas as pd\n",
    "df = pd.read_csv(\"https://gist.githubusercontent.com/curran/a08a1080b88344b0c8a7/raw/0e7a9b0a5d22642a06d3d5b9bcbad9890c8ee534/iris.csv\")\n",
    "del df['species']\n",
    "\n",
    "f = lambda x: x.max() - x.min()\n",
    "format = lambda x: '%.2f' % x\n",
    "\n",
    "# map() function\n",
    "%time print ( pd.Series(map(format, df['sepal_length'])) ) \n",
    "\n",
    "# map works element-wise on a series\n",
    "%time print( df['sepal_length'].map(format) )\n",
    "\n",
    "# applymap works element-wise on a dataframe\n",
    "%time print ( df.applymap(format) )\n",
    "\n",
    "# apply works on row/column basis\n",
    "%time print ( df.apply(f, axis=0) )    # 0: column, 1: row"
   ]
  },
  {
   "cell_type": "code",
   "execution_count": 13,
   "metadata": {},
   "outputs": [
    {
     "data": {
      "text/html": [
       "<pre style=\"white-space:pre;overflow-x:auto;line-height:normal;font-family:Menlo,'DejaVu Sans Mono',consolas,'Courier New',monospace\">Overall <span style=\"color: #729c1f; text-decoration-color: #729c1f\">━━━━━━━━━━━━━━━━━━━━━━━━━━━━━━━━━━━━━━━━</span> <span style=\"color: #800080; text-decoration-color: #800080\">100%</span> <span style=\"color: #008080; text-decoration-color: #008080\">0:00:00</span>\n",
       "Kernels <span style=\"color: #3a3a3a; text-decoration-color: #3a3a3a\">━━━━━━━━━━━━━━━━━━━━━━━━━━━━━━━━━━━━━━━━</span> <span style=\"color: #800080; text-decoration-color: #800080\">  0%</span> <span style=\"color: #008080; text-decoration-color: #008080\">0:00:01</span>\n",
       "</pre>\n"
      ],
      "text/plain": [
       "Overall \u001b[38;2;114;156;31m━━━━━━━━━━━━━━━━━━━━━━━━━━━━━━━━━━━━━━━━\u001b[0m \u001b[35m100%\u001b[0m \u001b[36m0:00:00\u001b[0m\n",
       "Kernels \u001b[38;5;237m━━━━━━━━━━━━━━━━━━━━━━━━━━━━━━━━━━━━━━━━\u001b[0m \u001b[35m  0%\u001b[0m \u001b[36m0:00:01\u001b[0m\n"
      ]
     },
     "metadata": {},
     "output_type": "display_data"
    },
    {
     "data": {
      "text/html": [
       "<pre style=\"white-space:pre;overflow-x:auto;line-height:normal;font-family:Menlo,'DejaVu Sans Mono',consolas,'Courier New',monospace\"></pre>\n"
      ],
      "text/plain": []
     },
     "metadata": {},
     "output_type": "display_data"
    },
    {
     "data": {
      "text/html": [
       "<pre style=\"white-space:pre;overflow-x:auto;line-height:normal;font-family:Menlo,'DejaVu Sans Mono',consolas,'Courier New',monospace\">\n",
       "</pre>\n"
      ],
      "text/plain": [
       "\n"
      ]
     },
     "metadata": {},
     "output_type": "display_data"
    },
    {
     "data": {
      "image/png": "[encoded data removed]",
      "text/plain": [
       "<Figure size 640x480 with 1 Axes>"
      ]
     },
     "metadata": {},
     "output_type": "display_data"
    }
   ],
   "source": [
    "# Example on numpy array\n",
    "\n",
    "import numpy as np\n",
    "import perfplot\n",
    "import math\n",
    "\n",
    "def f(x):\n",
    "    # return math.sqrt(x)\n",
    "    return np.sqrt(x)\n",
    "\n",
    "vf = np.vectorize(f)\n",
    "\n",
    "def array_for(x):\n",
    "    return np.array([f(xi) for xi in x])\n",
    "\n",
    "def array_map(x):\n",
    "    return np.array(list(map(f, x)))\n",
    "\n",
    "def fromiter(x):\n",
    "    return np.fromiter((f(xi) for xi in x), x.dtype)\n",
    "\n",
    "def vectorize(x):\n",
    "    return np.vectorize(f)(x)\n",
    "\n",
    "def vectorize_without_init(x):\n",
    "    return vf(x)\n",
    "\n",
    "perfplot.show(\n",
    "    setup=lambda n: np.random.rand(n),\n",
    "    n_range=[2 ** k for k in range(10)],\n",
    "    kernels=[f, array_for, array_map, fromiter, vectorize, vectorize_without_init],\n",
    "    xlabel=\"len(x)\",\n",
    ")"
   ]
  },
  {
   "cell_type": "markdown",
   "metadata": {},
   "source": [
    "#### Iterators & Generators"
   ]
  },
  {
   "cell_type": "code",
   "execution_count": 14,
   "metadata": {},
   "outputs": [
    {
     "name": "stdout",
     "output_type": "stream",
     "text": [
      "1\n",
      "20\n"
     ]
    }
   ],
   "source": [
    "# Iterators\n",
    "\n",
    "l = [1, 20, 3, 40, 5, 60]\n",
    "it = iter(l)\n",
    "\n",
    "print( next(it) )\n",
    "print( it.__next__() )"
   ]
  },
  {
   "cell_type": "code",
   "execution_count": 15,
   "metadata": {},
   "outputs": [
    {
     "name": "stdout",
     "output_type": "stream",
     "text": [
      "Next random number is: 159\n",
      "Next random number is: 179\n",
      "Next random number is: 145\n",
      "Next random number is: 112\n"
     ]
    }
   ],
   "source": [
    "# Generators\n",
    "import random\n",
    "import time\n",
    "\n",
    "def lot():\n",
    "    for i in range(4):\n",
    "        yield random.randint(100, 200)\n",
    "        time.sleep(2)\n",
    "        \n",
    "\n",
    "for r in lot():\n",
    "       print(\"Next random number is: %d\" %(r))"
   ]
  },
  {
   "cell_type": "markdown",
   "metadata": {},
   "source": [
    "### I/O Operation\n",
    "We want efficiency and flexibility in I/O operations!\n",
    "- Pickle (serialized storage)\n",
    "- I/O on Text\n",
    "- SQL Database\n",
    "- PyTables I/O Operations"
   ]
  },
  {
   "cell_type": "markdown",
   "metadata": {},
   "source": [
    "#### Pickle :: Serialized storage"
   ]
  },
  {
   "cell_type": "code",
   "execution_count": 17,
   "metadata": {},
   "outputs": [
    {
     "name": "stdout",
     "output_type": "stream",
     "text": [
      "CPU times: user 24.3 ms, sys: 5.04 ms, total: 29.3 ms\n",
      "Wall time: 29.4 ms\n",
      "CPU times: user 39.4 ms, sys: 17.3 ms, total: 56.7 ms\n",
      "Wall time: 138 ms\n"
     ]
    },
    {
     "data": {
      "text/plain": [
       "False"
      ]
     },
     "execution_count": 17,
     "metadata": {},
     "output_type": "execute_result"
    }
   ],
   "source": [
    "# pickle module serializes the python object for faster r/w.\n",
    "import pickle\n",
    "import numpy as np\n",
    "from random import gauss\n",
    "\n",
    "dat1 = [gauss(1.5, 2) for i in range(1000000)]\n",
    "\n",
    "file = open(\"ser_data.pkl\", 'wb')\n",
    "\n",
    "# data variable is serialized to a \"byte stream\" and dumped to disk\n",
    "%time pickle.dump(dat1, file)\n",
    "\n",
    "# retrieving deserialized data from pickle file\n",
    "%time dat2 = pickle.load(open( \"ser_data.pkl\", \"rb\" ))\n",
    "\n",
    "np.allclose(np.array(dat1), np.array(dat2), rtol=1e-05, atol=1e-08)  # relative / absolute"
   ]
  },
  {
   "cell_type": "code",
   "execution_count": 18,
   "metadata": {},
   "outputs": [
    {
     "name": "stdout",
     "output_type": "stream",
     "text": [
      "CPU times: user 670 ms, sys: 23 ms, total: 693 ms\n",
      "Wall time: 867 ms\n"
     ]
    }
   ],
   "source": [
    "%%time\n",
    "with open('nonser_data.dat', 'w') as f:\n",
    "    for item in dat1:\n",
    "        f.write(\"%s\\n\" % item)"
   ]
  },
  {
   "cell_type": "markdown",
   "metadata": {},
   "source": [
    "#### I/O on Text\n",
    "Pandas library is preferred over built-in Python commands for text data processing.  \n",
    "Formats: JSON, SQL, CSV, XLS/XLSX, HTML"
   ]
  },
  {
   "cell_type": "code",
   "execution_count": 19,
   "metadata": {},
   "outputs": [
    {
     "name": "stdout",
     "output_type": "stream",
     "text": [
      "CPU times: user 5.16 ms, sys: 37 µs, total: 5.2 ms\n",
      "Wall time: 28.3 ms\n",
      "CPU times: user 3.46 ms, sys: 0 ns, total: 3.46 ms\n",
      "Wall time: 7.77 ms\n"
     ]
    }
   ],
   "source": [
    "import pandas as pd\n",
    "df = pd.read_csv(\"https://gist.githubusercontent.com/curran/a08a1080b88344b0c8a7/raw/0e7a9b0a5d22642a06d3d5b9bcbad9890c8ee534/iris.csv\")\n",
    "\n",
    "%time df.to_csv('csvdata.csv')\n",
    "\n",
    "# And to read the files back from the disk\n",
    "%time dat3 = pd.read_csv('csvdata.csv')"
   ]
  },
  {
   "cell_type": "markdown",
   "metadata": {},
   "source": [
    "#### SQL Database\n",
    "Python supports both SQL and NoSQL databases. It support SQL through its SQLite3."
   ]
  },
  {
   "cell_type": "code",
   "execution_count": 20,
   "metadata": {},
   "outputs": [],
   "source": [
    "import sqlite3 as sq\n",
    "\n",
    "# Creating table\n",
    "query = 'CREATE TABLE TEST_TABLE (N1 real, N2 real, N3 real)'\n",
    "con = sq.connect('test_sqldb.db')\n",
    "con.execute(query)\n",
    "con.commit()"
   ]
  },
  {
   "cell_type": "code",
   "execution_count": 21,
   "metadata": {},
   "outputs": [
    {
     "name": "stdout",
     "output_type": "stream",
     "text": [
      "CPU times: user 1.89 s, sys: 56.9 ms, total: 1.95 s\n",
      "Wall time: 2.3 s\n"
     ]
    }
   ],
   "source": [
    "%%time\n",
    "\n",
    "# Saving data \n",
    "data = np.random.standard_normal((1000000, 3))\n",
    "\n",
    "con.executemany('INSERT INTO TEST_TABLE VALUES (?, ?, ?)', data)\n",
    "con.commit()"
   ]
  },
  {
   "cell_type": "code",
   "execution_count": 22,
   "metadata": {},
   "outputs": [
    {
     "name": "stdout",
     "output_type": "stream",
     "text": [
      "CPU times: user 789 ms, sys: 108 ms, total: 897 ms\n",
      "Wall time: 1.64 s\n"
     ]
    },
    {
     "data": {
      "text/plain": [
       "(0.29887294731964253, -0.4082188277124095, -1.0012870628249613)"
      ]
     },
     "execution_count": 22,
     "metadata": {},
     "output_type": "execute_result"
    }
   ],
   "source": [
    "%%time\n",
    "# Reading data is faster\n",
    "con.execute('SELECT * FROM TEST_TABLE').fetchall()[0]"
   ]
  },
  {
   "cell_type": "code",
   "execution_count": 23,
   "metadata": {},
   "outputs": [
    {
     "name": "stdout",
     "output_type": "stream",
     "text": [
      "CPU times: user 481 ms, sys: 55.5 ms, total: 536 ms\n",
      "Wall time: 1.61 s\n"
     ]
    },
    {
     "data": {
      "text/plain": [
       "array([ 0.299, -0.408, -1.001])"
      ]
     },
     "execution_count": 23,
     "metadata": {},
     "output_type": "execute_result"
    }
   ],
   "source": [
    "%%time\n",
    "# Save directly to Numpy\n",
    "np_query = 'SELECT * FROM TEST_TABLE WHERE N1 > 0 AND N2 < 0'\n",
    "np.array(con.execute(np_query).fetchall()).round(3)[0]"
   ]
  },
  {
   "cell_type": "code",
   "execution_count": 24,
   "metadata": {},
   "outputs": [
    {
     "name": "stdout",
     "output_type": "stream",
     "text": [
      "CPU times: user 10.1 ms, sys: 1e+03 ns, total: 10.1 ms\n",
      "Wall time: 10.1 ms\n"
     ]
    },
    {
     "data": {
      "text/html": [
       "<div>\n",
       "<style scoped>\n",
       "    .dataframe tbody tr th:only-of-type {\n",
       "        vertical-align: middle;\n",
       "    }\n",
       "\n",
       "    .dataframe tbody tr th {\n",
       "        vertical-align: top;\n",
       "    }\n",
       "\n",
       "    .dataframe thead th {\n",
       "        text-align: right;\n",
       "    }\n",
       "</style>\n",
       "<table border=\"1\" class=\"dataframe\">\n",
       "  <thead>\n",
       "    <tr style=\"text-align: right;\">\n",
       "      <th></th>\n",
       "      <th>N1</th>\n",
       "      <th>N2</th>\n",
       "      <th>N3</th>\n",
       "    </tr>\n",
       "  </thead>\n",
       "  <tbody>\n",
       "    <tr>\n",
       "      <th>0</th>\n",
       "      <td>0.298873</td>\n",
       "      <td>-0.408219</td>\n",
       "      <td>-1.001287</td>\n",
       "    </tr>\n",
       "    <tr>\n",
       "      <th>4</th>\n",
       "      <td>0.616895</td>\n",
       "      <td>-0.190583</td>\n",
       "      <td>-1.881283</td>\n",
       "    </tr>\n",
       "    <tr>\n",
       "      <th>16</th>\n",
       "      <td>0.876708</td>\n",
       "      <td>-0.561374</td>\n",
       "      <td>-0.860843</td>\n",
       "    </tr>\n",
       "    <tr>\n",
       "      <th>17</th>\n",
       "      <td>1.068579</td>\n",
       "      <td>-0.195444</td>\n",
       "      <td>1.476976</td>\n",
       "    </tr>\n",
       "    <tr>\n",
       "      <th>22</th>\n",
       "      <td>1.098516</td>\n",
       "      <td>-0.705406</td>\n",
       "      <td>-1.550887</td>\n",
       "    </tr>\n",
       "  </tbody>\n",
       "</table>\n",
       "</div>"
      ],
      "text/plain": [
       "          N1        N2        N3\n",
       "0   0.298873 -0.408219 -1.001287\n",
       "4   0.616895 -0.190583 -1.881283\n",
       "16  0.876708 -0.561374 -0.860843\n",
       "17  1.068579 -0.195444  1.476976\n",
       "22  1.098516 -0.705406 -1.550887"
      ]
     },
     "execution_count": 24,
     "metadata": {},
     "output_type": "execute_result"
    }
   ],
   "source": [
    "# load data directly to Pandas data format\n",
    "import pandas.io.sql as pds\n",
    "df = pds.read_sql('SELECT * FROM TEST_TABLE', con)\n",
    "\n",
    "# Much faster with Pandas in-memory processing\n",
    "%time df[(df['N1'] > 0) & (df['N2'] < 0)].head()\n",
    "\n",
    "# NOTE: Pandas CANNOT completely replaces SQL."
   ]
  },
  {
   "cell_type": "markdown",
   "metadata": {},
   "source": [
    "#### PyTables I/O Operations\n",
    "PyTables is a Python binding for the HDF5 format."
   ]
  },
  {
   "cell_type": "code",
   "execution_count": 25,
   "metadata": {},
   "outputs": [
    {
     "name": "stdout",
     "output_type": "stream",
     "text": [
      "/ints (Table(0,)) 'Integers'\n"
     ]
    }
   ],
   "source": [
    "import tables as tb\n",
    "file = 'tab.h5'\n",
    "h5 = tb.open_file(file, 'w')\n",
    "\n",
    "# creating rows for the db\n",
    "rows = 2000000\n",
    "table_model = { 'N1': tb.IntCol(pos=1), 'N2': tb.IntCol(pos=2) }\n",
    "filters = tb.Filters(complevel=0)  # no compression \n",
    "table = h5.create_table('/', 'ints', table_model, title='Integers', expectedrows=rows, filters=filters)\n",
    "\n",
    "print(table)"
   ]
  },
  {
   "cell_type": "code",
   "execution_count": 26,
   "metadata": {},
   "outputs": [
    {
     "name": "stdout",
     "output_type": "stream",
     "text": [
      "/ints (Table(2000000,)) 'Integers'\n",
      "CPU times: user 1.14 s, sys: 22.8 ms, total: 1.16 s\n",
      "Wall time: 1.16 s\n"
     ]
    }
   ],
   "source": [
    "%%time\n",
    "# populate table with random numbers\n",
    "ran_int = np.random.randint(0, 10000, size=(rows, 2))\n",
    "\n",
    "pointer = table.row              # get a pointer to the Row\n",
    "for i in range(rows):\n",
    "  pointer['N1'] = ran_int[i, 0]\n",
    "  pointer['N2'] = ran_int[i, 1]\n",
    "  pointer.append()               # append data and move pointer one row\n",
    "table.flush()\n",
    "\n",
    "print(table)"
   ]
  },
  {
   "cell_type": "code",
   "execution_count": 27,
   "metadata": {},
   "outputs": [
    {
     "name": "stdout",
     "output_type": "stream",
     "text": [
      "tab.h5 (File) ''\n",
      "Last modif.: '2023-04-05T00:40:25+00:00'\n",
      "Object Tree: \n",
      "/ (RootGroup) ''\n",
      "/ints (Table(2000000,)) 'Integers'\n",
      "/np_array (Table(2000000,)) 'Integers'\n",
      "\n",
      "CPU times: user 8.08 ms, sys: 24.1 ms, total: 32.2 ms\n",
      "Wall time: 163 ms\n"
     ]
    }
   ],
   "source": [
    "%%time\n",
    "\n",
    "# Using Numpy structured array   :: FASTER\n",
    "dty = np.dtype([('N1', 'i4'), ('N2', '<i4')])\n",
    "sarray = np.zeros(len(ran_int), dtype=dty)\n",
    "\n",
    "h5.create_table('/', 'np_array', sarray, title='Integers', expectedrows=rows, filters=filters)\n",
    "print(h5)"
   ]
  },
  {
   "cell_type": "code",
   "execution_count": 28,
   "metadata": {},
   "outputs": [
    {
     "name": "stdout",
     "output_type": "stream",
     "text": [
      "tab.h5 (File) ''\n",
      "Last modif.: '2023-04-05T00:40:28+00:00'\n",
      "Object Tree: \n",
      "/ (RootGroup) ''\n",
      "/ints (Table(2000000,)) 'Integers'\n",
      "\n"
     ]
    }
   ],
   "source": [
    "# delete duplicate table\n",
    "\n",
    "h5.remove_node('/', 'np_array')\n",
    "print(h5)"
   ]
  },
  {
   "cell_type": "code",
   "execution_count": 29,
   "metadata": {},
   "outputs": [],
   "source": [
    "# close it before re-opening again\n",
    "h5.close()"
   ]
  },
  {
   "cell_type": "markdown",
   "metadata": {},
   "source": [
    "**NOTE**: Pandas and PyTables are optimized speed for **I/O** operations.\n",
    "\n",
    "**Question**: When I should use `SQL databases` over `NumPy ndarray-based` or `pandas DataFrame-based` methods?\n"
   ]
  },
  {
   "cell_type": "markdown",
   "metadata": {},
   "source": [
    "### Parallel Processing\n",
    "Python packages such as Numpy, Scipy and Pandas utilize `OpenMP` to run on multiple CPUs on a shared-memory space.\n",
    "\n",
    "- **`-N`**: number of Nodes\n",
    "- **`--ntasks` or `n`**: number of instances of your command being executed (number of MPI ranks for a common cluster)\n",
    "- **`--cpus-per-task` or `c`**: how many CPU cores each task can use, *${SLURM_CPUS_PER_TASK}*\n",
    "\n",
    "Parallel Job Categories:\n",
    "- Fine grained\n",
    "- Coarse grained\n",
    "- Embarrassingly Parallel\n",
    "\n",
    "Terms:\n",
    "- **MPI**      : multiple CPU cores in same/different nodes working independently and communicating on demand\n",
    "- **Threads**  : Python libraries using mulithreading :: Numpy, Scipy, Pandas\n",
    "- **Tasks**    : Processing too many data files :: csv, HDF5"
   ]
  },
  {
   "cell_type": "code",
   "execution_count": 30,
   "metadata": {},
   "outputs": [
    {
     "data": {
      "text/plain": [
       "'8'"
      ]
     },
     "execution_count": 30,
     "metadata": {},
     "output_type": "execute_result"
    }
   ],
   "source": [
    "# Get # of CPU cores per task\n",
    "\n",
    "%env SLURM_CPUS_PER_TASK"
   ]
  },
  {
   "cell_type": "code",
   "execution_count": 31,
   "metadata": {},
   "outputs": [
    {
     "name": "stdout",
     "output_type": "stream",
     "text": [
      "Using 8 processors\n",
      "Seconds taken to invert 5 symmetric 2000x2000 matrices: 19.728554\n"
     ]
    }
   ],
   "source": [
    "import os\n",
    "from time import time\n",
    "import numpy as np\n",
    "\n",
    "print('Using %d processors' % int(os.getenv('SLURM_CPUS_PER_TASK',1)))\n",
    "\n",
    "nrounds = 5\n",
    "\n",
    "t_start = time()\n",
    "\n",
    "for i in range(nrounds):\n",
    "    a = np.random.random([2000,2000])\n",
    "    a = a + a.T\n",
    "    b = np.linalg.pinv(a) # compute (Moore-Penrose) pseudo-inverse of a matrix\n",
    "\n",
    "t_delta = time() - t_start\n",
    "\n",
    "print('Seconds taken to invert %d symmetric 2000x2000 matrices: %f' % (nrounds, t_delta))"
   ]
  },
  {
   "cell_type": "code",
   "execution_count": 32,
   "metadata": {},
   "outputs": [
    {
     "name": "stdout",
     "output_type": "stream",
     "text": [
      "Using 8 processors\n",
      "Seconds taken to invert 5 symmetric 2000x2000 matrices: 19.928131\n"
     ]
    }
   ],
   "source": [
    "!python python_openmp.py"
   ]
  },
  {
   "cell_type": "markdown",
   "metadata": {},
   "source": [
    "#### Array Job SLURM Script"
   ]
  },
  {
   "cell_type": "raw",
   "metadata": {},
   "source": [
    "#!/bin/bash\n",
    "\n",
    "#SBATCH -J JobName\n",
    "#SBATCH -p shared             # partition (queue)\n",
    "#SBATCH -N 1                  # number of nodes\n",
    "#SBATCH -n 1                  # number of MPI tasks\n",
    "#SBATCH -c 32                 # number of cores per task = SLURM_CPUS_PER_TASK\n",
    "#SBATCH --array=1-16          # specify an array job\n",
    "#SBATCH --mem 128000          # Specify total memory per task\n",
    "#SBATCH -t 1-00:00            # time (D-HH:MM)\n",
    "#SBATCH -o Job.%N.%A.%a.out   # STDOUT\n",
    "#SBATCH -e Job.%N.%A.%a.err   # STDERR\n",
    "\n",
    "export OMP_NUM_THREADS=$SLURM_CPUS_PER_TASK\n",
    "\n",
    "export data_path=/n/holyscratch01/rc_admin/mmsh/MSTemp/$SLURM_JOB_NAME/Tetrode$SLURM_ARRAY_TASK_ID\n",
    "\n",
    "mkdir -p $data_path\n",
    "\n",
    "srun -c $SLURM_CPUS_PER_TASK python python_openmp.py"
   ]
  },
  {
   "cell_type": "markdown",
   "metadata": {},
   "source": [
    "[More Information](https://docs.rc.fas.harvard.edu/kb/parallel-computing-on-odyssey/)"
   ]
  }
 ],
 "metadata": {
  "kernelspec": {
   "display_name": "Python [conda env:.conda-pycourse]",
   "language": "python",
   "name": "conda-env-.conda-pycourse-py"
  },
  "language_info": {
   "codemirror_mode": {
    "name": "ipython",
    "version": 3
   },
   "file_extension": ".py",
   "mimetype": "text/x-python",
   "name": "python",
   "nbconvert_exporter": "python",
   "pygments_lexer": "ipython3",
   "version": "3.11.2"
  }
 },
 "nbformat": 4,
 "nbformat_minor": 4
}

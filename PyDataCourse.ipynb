{
 "cells": [
  {
   "cell_type": "markdown",
   "metadata": {},
   "source": [
    "# Data Handling in Python Workshop | FAS Research Computing\n",
    "#### Instructor: Mahmood M. Shad | FAS Research Computing \n",
    "#### Date: 04/1/2021\n",
    "\n",
    "#### Resources:\n",
    "- [Python for Data Analysis](https://www.oreilly.com/library/view/python-for-data/9781491957653/)\n",
    "- [Parallel Computing on FASRC CANNON Cluster](https://docs.rc.fas.harvard.edu/kb/parallel-computing-on-odyssey/)"
   ]
  },
  {
   "cell_type": "markdown",
   "metadata": {},
   "source": [
    "## List of Topics\n",
    "- Python Data Types: Collections\n",
    "- File I/O\n",
    "- Parallel Data Processing"
   ]
  },
  {
   "cell_type": "markdown",
   "metadata": {},
   "source": [
    "### Python Data Types: Collections\n",
    "#### List Comprehensions"
   ]
  },
  {
   "cell_type": "code",
   "execution_count": 1,
   "metadata": {},
   "outputs": [
    {
     "name": "stdout",
     "output_type": "stream",
     "text": [
      "CPU times: user 7 µs, sys: 1 µs, total: 8 µs\n",
      "Wall time: 13.1 µs\n",
      "CPU times: user 11 µs, sys: 0 ns, total: 11 µs\n",
      "Wall time: 13.8 µs\n",
      "True\n"
     ]
    }
   ],
   "source": [
    "# Build sequences from other sequences\n",
    "\n",
    "l = [1, '4', 9, 'a', 0, 4, 'b', '5', 11, 'aa', 'bb', 7]\n",
    "\n",
    "%time res1 = [ x**2 for x in l if isinstance(x, int) ]\n",
    "\n",
    "# x**2                       :: output expression\n",
    "# x                          :: variable\n",
    "# l                          :: input sequence\n",
    "# if isinstance(x, int)      :: optional predicate\n",
    "\n",
    "\n",
    "# NOTE: Same results by map, filter, lambda\n",
    "# lambda(variable : equation, list)\n",
    "\n",
    "%time res2 = list(map(lambda x: x**2, filter(lambda x: isinstance(x, int), l)))\n",
    "\n",
    "\n",
    "print(res1 == res2)"
   ]
  },
  {
   "cell_type": "markdown",
   "metadata": {},
   "source": [
    "Please Note:   \n",
    "**Wall time** means that a clock hanging on a wall outside of the computer would measure X ms from the time the code was submitted to the CPU to the time when the process completed.\n",
    "\n",
    "**User time** and sys time both refer to time taken by the CPU to actually work on the code. The CPU time dedicated to our code is only a fraction of the wall time as the CPU swaps its attention from our code to other processes that are running on the system.\n",
    "\n",
    "**User time** is the amount of CPU time taken outside of the kernel.\n",
    "\n",
    "**Sys time** is the amount of time taken inside of the kernel. \n",
    "\n",
    "**Total** CPU time is user time + sys time."
   ]
  },
  {
   "cell_type": "code",
   "execution_count": 2,
   "metadata": {},
   "outputs": [
    {
     "name": "stdout",
     "output_type": "stream",
     "text": [
      "2.23 µs ± 50.5 ns per loop (mean ± std. dev. of 7 runs, 100000 loops each)\n",
      "3.34 µs ± 56.7 ns per loop (mean ± std. dev. of 7 runs, 100000 loops each)\n"
     ]
    }
   ],
   "source": [
    "# %timeit vs %time\n",
    "l = [1, '4', 9, 'a', 0, 4, 'b', '5', 11, 'aa', 'bb', 7]\n",
    "\n",
    "%timeit res1 = [ x**2 for x in l if isinstance(x, int) ]\n",
    "%timeit res2 = list(map(lambda x: x**2, filter(lambda x: isinstance(x, int), l)))\n"
   ]
  },
  {
   "cell_type": "code",
   "execution_count": 3,
   "metadata": {
    "scrolled": true
   },
   "outputs": [
    {
     "name": "stdout",
     "output_type": "stream",
     "text": [
      "time the whole cell using %%time built-in function\n",
      "True\n",
      "CPU times: user 378 µs, sys: 344 µs, total: 722 µs\n",
      "Wall time: 459 µs\n"
     ]
    }
   ],
   "source": [
    "%%time\n",
    "\n",
    "print(\"time the whole cell using %%time built-in function\")\n",
    "l = [1, '4', 9, 'a', 0, 4, 'b', '5', 11, 'aa', 'bb', 7]\n",
    "\n",
    "res1 = [ x**2 for x in l if isinstance(x, int) ]\n",
    "res2 = list(map(lambda x: x**2, filter(lambda x: isinstance(x, int), l)))\n",
    "print(res1 == res2)"
   ]
  },
  {
   "cell_type": "code",
   "execution_count": 4,
   "metadata": {},
   "outputs": [
    {
     "name": "stdout",
     "output_type": "stream",
     "text": [
      "profile the whole cell using %%prun built-in function\n",
      "True\n",
      " "
     ]
    }
   ],
   "source": [
    "%%prun\n",
    "\n",
    "print(\"profile the whole cell using %%prun built-in function\")\n",
    "l = [1, '4', 9, 'a', 0, 4, 'b', '5', 11, 'aa', 'bb', 7]\n",
    "\n",
    "res1 = [ x**2 for x in l if isinstance(x, int) ]\n",
    "res2 = list(map(lambda x: x**2, filter(lambda x: isinstance(x, int), l)))\n",
    "print(res1 == res2)"
   ]
  },
  {
   "cell_type": "markdown",
   "metadata": {},
   "source": [
    "**ncalls** : the number of calls,\n",
    "\n",
    "**tottime** : the total time spent in the given function (and excluding time made in calls to sub-functions),\n",
    "\n",
    "**percall** : the quotient of *tottime* divided by *ncalls*\n",
    "\n",
    "**cumtime** : the total time spent in this and all subfunctions (from invocation till exit). This figure is accurate even for recursive functions.\n",
    "\n",
    "**percall** is the quotient of *cumtime* divided by primitive calls"
   ]
  },
  {
   "cell_type": "markdown",
   "metadata": {},
   "source": [
    "**NOTE:** Read more about the built-in magic commands in `IPython` [here](https://ipython.readthedocs.io/en/stable/interactive/magics.html). "
   ]
  },
  {
   "cell_type": "code",
   "execution_count": 19,
   "metadata": {},
   "outputs": [
    {
     "name": "stdout",
     "output_type": "stream",
     "text": [
      "The snakeviz extension is already loaded. To reload it, use:\n",
      "  %reload_ext snakeviz\n"
     ]
    }
   ],
   "source": [
    "# Load an IPython extension by its module name.\n",
    "%load_ext snakeviz"
   ]
  },
  {
   "cell_type": "code",
   "execution_count": 20,
   "metadata": {},
   "outputs": [],
   "source": [
    "def test():\n",
    "    l = [1, '4', 9, 'a', 0, 4, 'b', '5', 11, 'aa', 'bb', 7]\n",
    "\n",
    "    res1 = [ x**2 for x in l if isinstance(x, int) ]\n",
    "    res2 = list(map(lambda x: x**2, filter(lambda x: isinstance(x, int), l)))\n",
    "    print(res1 == res2)"
   ]
  },
  {
   "cell_type": "code",
   "execution_count": 21,
   "metadata": {},
   "outputs": [
    {
     "name": "stdout",
     "output_type": "stream",
     "text": [
      "True\n",
      " \n",
      "*** Profile stats marshalled to file '/var/folders/_c/6tgj_rc57nv5066769brrsym0000gn/T/tmpki64l68s'. \n",
      "Embedding SnakeViz in this document...\n"
     ]
    },
    {
     "data": {
      "text/html": [
       "\n",
       "<iframe id='snakeviz-a6c44f98-b185-11ec-a3e3-acde48001122' frameborder=0 seamless width='100%' height='1000'></iframe>\n",
       "<script>document.getElementById(\"snakeviz-a6c44f98-b185-11ec-a3e3-acde48001122\").setAttribute(\"src\", \"http://\" + document.location.hostname + \":8080/snakeviz/%2Fvar%2Ffolders%2F_c%2F6tgj_rc57nv5066769brrsym0000gn%2FT%2Ftmpki64l68s\")</script>\n"
      ],
      "text/plain": [
       "<IPython.core.display.HTML object>"
      ]
     },
     "metadata": {},
     "output_type": "display_data"
    }
   ],
   "source": [
    "%snakeviz test()"
   ]
  },
  {
   "cell_type": "code",
   "execution_count": 22,
   "metadata": {},
   "outputs": [
    {
     "name": "stdout",
     "output_type": "stream",
     "text": [
      "CPU times: user 58 µs, sys: 2 µs, total: 60 µs\n",
      "Wall time: 63.9 µs\n"
     ]
    },
    {
     "data": {
      "text/plain": [
       "[(1, 4), (2, 5), (3, 6)]"
      ]
     },
     "execution_count": 22,
     "metadata": {},
     "output_type": "execute_result"
    }
   ],
   "source": [
    "%%time\n",
    "\n",
    "# Nested Comprehensions\n",
    "[ [ 1 if i == row_i else 0 for i in range(0, 10) ] for row_i in range(0, 10) ]\n",
    "\n",
    "# Use zip() to work with two or more elements at a time\n",
    "[(v,w) for v,w in zip([1,2,3], [4,5,6])]"
   ]
  },
  {
   "cell_type": "markdown",
   "metadata": {},
   "source": [
    "#### Set Comprehensions\n",
    "Similar to list comprehensions but it outputs sets."
   ]
  },
  {
   "cell_type": "code",
   "execution_count": 23,
   "metadata": {},
   "outputs": [
    {
     "name": "stdout",
     "output_type": "stream",
     "text": [
      "{0, 1, 4, 5, 9, 'bb', 'aa'}\n"
     ]
    }
   ],
   "source": [
    "l = [1, 4, 9, 'aa', 0, 4, 'bb', 5, 5, 'aa', 'bb', 1]\n",
    "res = {i for i in l}\n",
    "print(res)"
   ]
  },
  {
   "cell_type": "markdown",
   "metadata": {},
   "source": [
    "#### Dictionary Comprehensions\n",
    "Similar to list comprehensions but it outputs dictionaries."
   ]
  },
  {
   "cell_type": "code",
   "execution_count": 24,
   "metadata": {},
   "outputs": [
    {
     "name": "stdout",
     "output_type": "stream",
     "text": [
      "{'b': 20, 'c': 40, 'B': 50, 'Z': 30}\n",
      "{'b': 70, 'c': 40, 'z': 30}\n"
     ]
    }
   ],
   "source": [
    "# Get frequency of keys and ignore lowercase/uppercase\n",
    "d = {'b':20, 'c': 40, 'B': 50, 'Z':30}\n",
    "\n",
    "d_freq = { i.lower() : d.get(i.lower(), 0) + d.get(i.upper(), 0) for i in d.keys() }\n",
    "\n",
    "print(d)\n",
    "print(d_freq)"
   ]
  },
  {
   "cell_type": "markdown",
   "metadata": {},
   "source": [
    "#### Function map(), apply(), applymap()"
   ]
  },
  {
   "cell_type": "code",
   "execution_count": 27,
   "metadata": {},
   "outputs": [
    {
     "name": "stdout",
     "output_type": "stream",
     "text": [
      "CPU times: user 30.7 ms, sys: 1.53 ms, total: 32.3 ms\n",
      "Wall time: 31.6 ms\n",
      "CPU times: user 28.6 ms, sys: 418 µs, total: 29 ms\n",
      "Wall time: 29.1 ms\n",
      "[['c', 'a', 't'], ['d', 'o', 'g'], ['b', 'i', 'r', 'd'], ['h', 'o', 'r', 's', 'e']]\n"
     ]
    }
   ],
   "source": [
    "def xsq(x):\n",
    "    return x**2\n",
    "\n",
    "l1 = [i for i in range(10**5)]\n",
    "\n",
    "%time list(map(xsq, l1))\n",
    "%time list(map(lambda x: x**2, l1))\n",
    "\n",
    "\n",
    "l2 = ['cat', 'dog', 'bird', 'horse']\n",
    "print(list(map(list,l2)))"
   ]
  },
  {
   "cell_type": "code",
   "execution_count": 31,
   "metadata": {},
   "outputs": [
    {
     "name": "stdout",
     "output_type": "stream",
     "text": [
      "0      5.10\n",
      "1      4.90\n",
      "2      4.70\n",
      "3      4.60\n",
      "4      5.00\n",
      "       ... \n",
      "145    6.70\n",
      "146    6.30\n",
      "147    6.50\n",
      "148    6.20\n",
      "149    5.90\n",
      "Length: 150, dtype: object\n",
      "CPU times: user 1.31 ms, sys: 228 µs, total: 1.53 ms\n",
      "Wall time: 1.61 ms\n",
      "0      5.10\n",
      "1      4.90\n",
      "2      4.70\n",
      "3      4.60\n",
      "4      5.00\n",
      "       ... \n",
      "145    6.70\n",
      "146    6.30\n",
      "147    6.50\n",
      "148    6.20\n",
      "149    5.90\n",
      "Name: sepal_length, Length: 150, dtype: object\n",
      "CPU times: user 1.42 ms, sys: 390 µs, total: 1.81 ms\n",
      "Wall time: 1.93 ms\n",
      "    sepal_length sepal_width petal_length petal_width\n",
      "0           5.10        3.50         1.40        0.20\n",
      "1           4.90        3.00         1.40        0.20\n",
      "2           4.70        3.20         1.30        0.20\n",
      "3           4.60        3.10         1.50        0.20\n",
      "4           5.00        3.60         1.40        0.20\n",
      "..           ...         ...          ...         ...\n",
      "145         6.70        3.00         5.20        2.30\n",
      "146         6.30        2.50         5.00        1.90\n",
      "147         6.50        3.00         5.20        2.00\n",
      "148         6.20        3.40         5.40        2.30\n",
      "149         5.90        3.00         5.10        1.80\n",
      "\n",
      "[150 rows x 4 columns]\n",
      "CPU times: user 4.36 ms, sys: 439 µs, total: 4.8 ms\n",
      "Wall time: 6.56 ms\n",
      "sepal_length    3.6\n",
      "sepal_width     2.4\n",
      "petal_length    5.9\n",
      "petal_width     2.4\n",
      "dtype: float64\n",
      "CPU times: user 1.75 ms, sys: 162 µs, total: 1.92 ms\n",
      "Wall time: 1.83 ms\n"
     ]
    }
   ],
   "source": [
    "# dataframe map\n",
    "import pandas as pd\n",
    "df = pd.read_csv(\"https://gist.githubusercontent.com/curran/a08a1080b88344b0c8a7/raw/0e7a9b0a5d22642a06d3d5b9bcbad9890c8ee534/iris.csv\")\n",
    "del df['species']\n",
    "\n",
    "f = lambda x: x.max() - x.min()\n",
    "format = lambda x: '%.2f' % x\n",
    "\n",
    "# map() function\n",
    "%time print ( pd.Series(map(format, df['sepal_length'])) ) \n",
    "\n",
    "# map works element-wise on a series\n",
    "%time print( df['sepal_length'].map(format) )\n",
    "\n",
    "# applymap works element-wise on a dataframe\n",
    "%time print ( df.applymap(format) )\n",
    "\n",
    "# apply works on row/column basis\n",
    "%time print ( df.apply(f, axis=0) )    # 0: column, 1: row"
   ]
  },
  {
   "cell_type": "code",
   "execution_count": 32,
   "metadata": {},
   "outputs": [
    {
     "data": {
      "application/vnd.jupyter.widget-view+json": {
       "model_id": "f43b4c7cef7e474d8b281547492a21a4",
       "version_major": 2,
       "version_minor": 0
      },
      "text/plain": [
       "Output()"
      ]
     },
     "metadata": {},
     "output_type": "display_data"
    },
    {
     "data": {
      "image/png": "[encoded data removed]",
      "text/plain": [
       "<Figure size 432x288 with 1 Axes>"
      ]
     },
     "metadata": {
      "needs_background": "dark"
     },
     "output_type": "display_data"
    }
   ],
   "source": [
    "# Example on numpy array\n",
    "\n",
    "import numpy as np\n",
    "import perfplot\n",
    "import math\n",
    "\n",
    "def f(x):\n",
    "    # return math.sqrt(x)\n",
    "    return np.sqrt(x)\n",
    "\n",
    "vf = np.vectorize(f)\n",
    "\n",
    "def array_for(x):\n",
    "    return np.array([f(xi) for xi in x])\n",
    "\n",
    "def array_map(x):\n",
    "    return np.array(list(map(f, x)))\n",
    "\n",
    "def fromiter(x):\n",
    "    return np.fromiter((f(xi) for xi in x), x.dtype)\n",
    "\n",
    "def vectorize(x):\n",
    "    return np.vectorize(f)(x)\n",
    "\n",
    "def vectorize_without_init(x):\n",
    "    return vf(x)\n",
    "\n",
    "perfplot.show(\n",
    "    setup=lambda n: np.random.rand(n),\n",
    "    n_range=[2 ** k for k in range(10)],\n",
    "    kernels=[f, array_for, array_map, fromiter, vectorize, vectorize_without_init],\n",
    "    xlabel=\"len(x)\",\n",
    ")"
   ]
  },
  {
   "cell_type": "markdown",
   "metadata": {},
   "source": [
    "#### Iterators & Generators"
   ]
  },
  {
   "cell_type": "code",
   "execution_count": 20,
   "metadata": {},
   "outputs": [
    {
     "name": "stdout",
     "output_type": "stream",
     "text": [
      "1\n",
      "20\n"
     ]
    }
   ],
   "source": [
    "# Iterators\n",
    "\n",
    "l = [1, 20, 3, 40, 5, 60]\n",
    "it = iter(l)\n",
    "\n",
    "print( next(it) )\n",
    "print( it.__next__() )"
   ]
  },
  {
   "cell_type": "code",
   "execution_count": 37,
   "metadata": {},
   "outputs": [
    {
     "name": "stdout",
     "output_type": "stream",
     "text": [
      "Next random number is: 192\n",
      "Next random number is: 126\n",
      "Next random number is: 184\n",
      "Next random number is: 150\n"
     ]
    }
   ],
   "source": [
    "# Generators\n",
    "import random\n",
    "import time\n",
    "\n",
    "def lot():\n",
    "    for i in range(4):\n",
    "        yield random.randint(100, 200)\n",
    "        time.sleep(2)\n",
    "        \n",
    "\n",
    "for r in lot():\n",
    "       print(\"Next random number is: %d\" %(r))"
   ]
  },
  {
   "cell_type": "markdown",
   "metadata": {},
   "source": [
    "### I/O Operation\n",
    "We want efficiency and flexibility in I/O operations!\n",
    "- Pickle (serialized storage)\n",
    "- I/O on Text\n",
    "- SQL Database\n",
    "- PyTables I/O Operations"
   ]
  },
  {
   "cell_type": "markdown",
   "metadata": {},
   "source": [
    "#### Pickle :: Serialized storage"
   ]
  },
  {
   "cell_type": "code",
   "execution_count": 39,
   "metadata": {},
   "outputs": [
    {
     "name": "stdout",
     "output_type": "stream",
     "text": [
      "CPU times: user 22.3 ms, sys: 7.87 ms, total: 30.1 ms\n",
      "Wall time: 31 ms\n",
      "CPU times: user 35.5 ms, sys: 15.4 ms, total: 50.9 ms\n",
      "Wall time: 51.5 ms\n"
     ]
    },
    {
     "data": {
      "text/plain": [
       "True"
      ]
     },
     "execution_count": 39,
     "metadata": {},
     "output_type": "execute_result"
    }
   ],
   "source": [
    "# pickle module serializes the python object for faster r/w.\n",
    "import pickle\n",
    "import numpy as np\n",
    "from random import gauss\n",
    "\n",
    "dat1 = [gauss(1.5, 2) for i in range(1000000)]\n",
    "\n",
    "file = open(\"ser_data.pkl\", 'wb')\n",
    "\n",
    "# data variable is serialized to a \"byte stream\" and dumped to disk\n",
    "%time pickle.dump(dat1, file)\n",
    "\n",
    "# retrieving deserialized data from pickle file\n",
    "%time dat2 = pickle.load(open( \"ser_data.pkl\", \"rb\" ))\n",
    "\n",
    "np.allclose(np.array(dat1), np.array(dat2), rtol=1e-05, atol=1e-08)  # relative / absolute"
   ]
  },
  {
   "cell_type": "code",
   "execution_count": 41,
   "metadata": {},
   "outputs": [
    {
     "name": "stdout",
     "output_type": "stream",
     "text": [
      "CPU times: user 824 ms, sys: 18 ms, total: 842 ms\n",
      "Wall time: 863 ms\n"
     ]
    }
   ],
   "source": [
    "%%time\n",
    "with open('nonser_data.dat', 'w') as f:\n",
    "    for item in dat1:\n",
    "        f.write(\"%s\\n\" % item)"
   ]
  },
  {
   "cell_type": "markdown",
   "metadata": {},
   "source": [
    "#### I/O on Text\n",
    "Pandas library is preferred over built-in Python commands for text data processing.  \n",
    "Formats: JSON, SQL, CSV, XLS/XLSX, HTML"
   ]
  },
  {
   "cell_type": "code",
   "execution_count": 49,
   "metadata": {},
   "outputs": [
    {
     "name": "stdout",
     "output_type": "stream",
     "text": [
      "CPU times: user 1.49 ms, sys: 556 µs, total: 2.04 ms\n",
      "Wall time: 2.16 ms\n",
      "CPU times: user 2.05 ms, sys: 256 µs, total: 2.31 ms\n",
      "Wall time: 3.03 ms\n"
     ]
    }
   ],
   "source": [
    "import pandas as pd\n",
    "df = pd.read_csv(\"https://gist.githubusercontent.com/curran/a08a1080b88344b0c8a7/raw/0e7a9b0a5d22642a06d3d5b9bcbad9890c8ee534/iris.csv\")\n",
    "\n",
    "%time df.to_csv('csvdata.csv')\n",
    "\n",
    "# And to read the files back from the disk\n",
    "%time dat3 = pd.read_csv('csvdata.csv')"
   ]
  },
  {
   "cell_type": "markdown",
   "metadata": {},
   "source": [
    "#### SQL Database\n",
    "Python supports both SQL and NoSQL databases. It support SQL through its SQLite3."
   ]
  },
  {
   "cell_type": "code",
   "execution_count": 50,
   "metadata": {},
   "outputs": [],
   "source": [
    "import sqlite3 as sq\n",
    "\n",
    "# Creating table\n",
    "query = 'CREATE TABLE TEST_TABLE (N1 real, N2 real, N3 real)'\n",
    "con = sq.connect('test_sqldb.db')\n",
    "con.execute(query)\n",
    "con.commit()"
   ]
  },
  {
   "cell_type": "code",
   "execution_count": 55,
   "metadata": {},
   "outputs": [
    {
     "name": "stdout",
     "output_type": "stream",
     "text": [
      "CPU times: user 3.71 s, sys: 65.3 ms, total: 3.77 s\n",
      "Wall time: 3.79 s\n"
     ]
    }
   ],
   "source": [
    "%%time\n",
    "\n",
    "# Saving data \n",
    "data = np.random.standard_normal((1000000, 3))\n",
    "\n",
    "con.executemany('INSERT INTO TEST_TABLE VALUES (?, ?, ?)', data)\n",
    "con.commit()"
   ]
  },
  {
   "cell_type": "code",
   "execution_count": 56,
   "metadata": {},
   "outputs": [
    {
     "name": "stdout",
     "output_type": "stream",
     "text": [
      "CPU times: user 3.2 s, sys: 352 ms, total: 3.55 s\n",
      "Wall time: 3.55 s\n"
     ]
    },
    {
     "data": {
      "text/plain": [
       "(0.8591495329257454, -1.139937944645096, -1.0270384279213154)"
      ]
     },
     "execution_count": 56,
     "metadata": {},
     "output_type": "execute_result"
    }
   ],
   "source": [
    "%%time\n",
    "# Reading data is faster\n",
    "con.execute('SELECT * FROM TEST_TABLE').fetchall()[0]"
   ]
  },
  {
   "cell_type": "code",
   "execution_count": 57,
   "metadata": {},
   "outputs": [
    {
     "name": "stdout",
     "output_type": "stream",
     "text": [
      "CPU times: user 1.8 s, sys: 119 ms, total: 1.92 s\n",
      "Wall time: 1.92 s\n"
     ]
    },
    {
     "data": {
      "text/plain": [
       "array([ 0.859, -1.14 , -1.027])"
      ]
     },
     "execution_count": 57,
     "metadata": {},
     "output_type": "execute_result"
    }
   ],
   "source": [
    "%%time\n",
    "# Save directly to Numpy\n",
    "np_query = 'SELECT * FROM TEST_TABLE WHERE N1 > 0 AND N2 < 0'\n",
    "np.array(con.execute(np_query).fetchall()).round(3)[0]"
   ]
  },
  {
   "cell_type": "code",
   "execution_count": 58,
   "metadata": {},
   "outputs": [
    {
     "name": "stdout",
     "output_type": "stream",
     "text": [
      "CPU times: user 59.5 ms, sys: 26.9 ms, total: 86.4 ms\n",
      "Wall time: 468 ms\n"
     ]
    },
    {
     "data": {
      "text/html": [
       "<div>\n",
       "<style scoped>\n",
       "    .dataframe tbody tr th:only-of-type {\n",
       "        vertical-align: middle;\n",
       "    }\n",
       "\n",
       "    .dataframe tbody tr th {\n",
       "        vertical-align: top;\n",
       "    }\n",
       "\n",
       "    .dataframe thead th {\n",
       "        text-align: right;\n",
       "    }\n",
       "</style>\n",
       "<table border=\"1\" class=\"dataframe\">\n",
       "  <thead>\n",
       "    <tr style=\"text-align: right;\">\n",
       "      <th></th>\n",
       "      <th>N1</th>\n",
       "      <th>N2</th>\n",
       "      <th>N3</th>\n",
       "    </tr>\n",
       "  </thead>\n",
       "  <tbody>\n",
       "    <tr>\n",
       "      <th>0</th>\n",
       "      <td>0.859150</td>\n",
       "      <td>-1.139938</td>\n",
       "      <td>-1.027038</td>\n",
       "    </tr>\n",
       "    <tr>\n",
       "      <th>7</th>\n",
       "      <td>1.019990</td>\n",
       "      <td>-0.579416</td>\n",
       "      <td>-2.302068</td>\n",
       "    </tr>\n",
       "    <tr>\n",
       "      <th>9</th>\n",
       "      <td>1.421544</td>\n",
       "      <td>-0.113872</td>\n",
       "      <td>0.786747</td>\n",
       "    </tr>\n",
       "    <tr>\n",
       "      <th>10</th>\n",
       "      <td>1.491558</td>\n",
       "      <td>-0.948897</td>\n",
       "      <td>-0.999597</td>\n",
       "    </tr>\n",
       "    <tr>\n",
       "      <th>13</th>\n",
       "      <td>1.683391</td>\n",
       "      <td>-0.021800</td>\n",
       "      <td>0.018720</td>\n",
       "    </tr>\n",
       "  </tbody>\n",
       "</table>\n",
       "</div>"
      ],
      "text/plain": [
       "          N1        N2        N3\n",
       "0   0.859150 -1.139938 -1.027038\n",
       "7   1.019990 -0.579416 -2.302068\n",
       "9   1.421544 -0.113872  0.786747\n",
       "10  1.491558 -0.948897 -0.999597\n",
       "13  1.683391 -0.021800  0.018720"
      ]
     },
     "execution_count": 58,
     "metadata": {},
     "output_type": "execute_result"
    }
   ],
   "source": [
    "# load data directly to Pandas data format\n",
    "import pandas.io.sql as pds\n",
    "df = pds.read_sql('SELECT * FROM TEST_TABLE', con)\n",
    "\n",
    "# Much faster with Pandas in-memory processing\n",
    "%time df[(df['N1'] > 0) & (df['N2'] < 0)].head()\n",
    "\n",
    "# NOTE: Pandas CANNOT completely replaces SQL."
   ]
  },
  {
   "cell_type": "markdown",
   "metadata": {},
   "source": [
    "#### PyTables I/O Operations\n",
    "PyTables is a Python binding for the HDF5 format."
   ]
  },
  {
   "cell_type": "code",
   "execution_count": 59,
   "metadata": {},
   "outputs": [
    {
     "name": "stdout",
     "output_type": "stream",
     "text": [
      "/ints (Table(0,)) 'Integers'\n"
     ]
    }
   ],
   "source": [
    "import tables as tb\n",
    "file = 'tab.h5'\n",
    "h5 = tb.open_file(file, 'w')\n",
    "\n",
    "# creating rows for the db\n",
    "rows = 2000000\n",
    "table_model = { 'N1': tb.IntCol(pos=1), 'N2': tb.IntCol(pos=2) }\n",
    "filters = tb.Filters(complevel=0)  # no compression \n",
    "table = h5.create_table('/', 'ints', table_model, title='Integers', expectedrows=rows, filters=filters)\n",
    "\n",
    "print(table)"
   ]
  },
  {
   "cell_type": "code",
   "execution_count": 60,
   "metadata": {},
   "outputs": [
    {
     "name": "stdout",
     "output_type": "stream",
     "text": [
      "/ints (Table(2000000,)) 'Integers'\n",
      "CPU times: user 1.4 s, sys: 14.9 ms, total: 1.42 s\n",
      "Wall time: 1.42 s\n"
     ]
    }
   ],
   "source": [
    "%%time\n",
    "# populate table with random numbers\n",
    "ran_int = np.random.randint(0, 10000, size=(rows, 2))\n",
    "\n",
    "pointer = table.row              # get a pointer to the Row\n",
    "for i in range(rows):\n",
    "  pointer['N1'] = ran_int[i, 0]\n",
    "  pointer['N2'] = ran_int[i, 1]\n",
    "  pointer.append()               # append data and move pointer one row\n",
    "table.flush()\n",
    "\n",
    "print(table)"
   ]
  },
  {
   "cell_type": "code",
   "execution_count": 61,
   "metadata": {},
   "outputs": [
    {
     "name": "stdout",
     "output_type": "stream",
     "text": [
      "tab.h5 (File) ''\n",
      "Last modif.: 'Fri Apr  1 03:01:53 2022'\n",
      "Object Tree: \n",
      "/ (RootGroup) ''\n",
      "/ints (Table(2000000,)) 'Integers'\n",
      "/np_array (Table(2000000,)) 'Integers'\n",
      "\n",
      "CPU times: user 6.74 ms, sys: 5.47 ms, total: 12.2 ms\n",
      "Wall time: 10.6 ms\n"
     ]
    }
   ],
   "source": [
    "%%time\n",
    "\n",
    "# Using Numpy structured array   :: FASTER\n",
    "dty = np.dtype([('N1', 'i4'), ('N2', '<i4')])\n",
    "sarray = np.zeros(len(ran_int), dtype=dty)\n",
    "\n",
    "h5.create_table('/', 'np_array', sarray, title='Integers', expectedrows=rows, filters=filters)\n",
    "print(h5)"
   ]
  },
  {
   "cell_type": "code",
   "execution_count": 62,
   "metadata": {},
   "outputs": [
    {
     "name": "stdout",
     "output_type": "stream",
     "text": [
      "tab.h5 (File) ''\n",
      "Last modif.: 'Fri Apr  1 03:02:09 2022'\n",
      "Object Tree: \n",
      "/ (RootGroup) ''\n",
      "/ints (Table(2000000,)) 'Integers'\n",
      "\n"
     ]
    }
   ],
   "source": [
    "# delete duplicate table\n",
    "\n",
    "h5.remove_node('/', 'np_array')\n",
    "print(h5)"
   ]
  },
  {
   "cell_type": "code",
   "execution_count": 63,
   "metadata": {},
   "outputs": [],
   "source": [
    "# close it before re-opening again\n",
    "h5.close()"
   ]
  },
  {
   "cell_type": "markdown",
   "metadata": {},
   "source": [
    "**NOTE**: Pandas and PyTables are optimized speed for **I/O** operations.\n",
    "\n",
    "**Question**: When I should use `SQL databases` over `NumPy ndarray-based` or `pandas DataFrame-based` methods?\n"
   ]
  },
  {
   "cell_type": "markdown",
   "metadata": {},
   "source": [
    "### Parallel Processing\n",
    "Python packages such as Numpy, Scipy and Pandas utilize `OpenMP` to run on multiple CPUs on a shared-memory space.\n",
    "\n",
    "- **`-N`**: number of Nodes\n",
    "- **`--ntasks` or `n`**: number of instances of your command being executed (number of MPI ranks for a common cluster)\n",
    "- **`--cpus-per-task` or `c`**: how many CPU cores each task can use, *${SLURM_CPUS_PER_TASK}*\n",
    "\n",
    "Parallel Job Categories:\n",
    "- Fine grained\n",
    "- Coarse grained\n",
    "- Embarrassingly Parallel\n",
    "\n",
    "Terms:\n",
    "- **MPI**      : multiple CPU cores in same/different nodes working independently and communicating on demand\n",
    "- **Threads**  : Python libraries using mulithreading :: Numpy, Scipy, Pandas\n",
    "- **Tasks**    : Processing too many data files :: csv, HDF5"
   ]
  },
  {
   "cell_type": "code",
   "execution_count": 64,
   "metadata": {},
   "outputs": [
    {
     "name": "stderr",
     "output_type": "stream",
     "text": [
      "UsageError: Environment does not have key: SLURM_CPUS_PER_TASK\n"
     ]
    }
   ],
   "source": [
    "# Get # of CPU cores per task\n",
    "\n",
    "%env SLURM_CPUS_PER_TASK"
   ]
  },
  {
   "cell_type": "code",
   "execution_count": 65,
   "metadata": {},
   "outputs": [
    {
     "name": "stdout",
     "output_type": "stream",
     "text": [
      "Using 1 processors\n",
      "Seconds taken to invert 5 symmetric 2000x2000 matrices: 13.882356\n"
     ]
    }
   ],
   "source": [
    "import os\n",
    "from time import time\n",
    "import numpy as np\n",
    "\n",
    "print('Using %d processors' % int(os.getenv('SLURM_CPUS_PER_TASK',1)))\n",
    "\n",
    "nrounds = 5\n",
    "\n",
    "t_start = time()\n",
    "\n",
    "for i in range(nrounds):\n",
    "    a = np.random.random([2000,2000])\n",
    "    a = a + a.T\n",
    "    b = np.linalg.pinv(a) # compute (Moore-Penrose) pseudo-inverse of a matrix\n",
    "\n",
    "t_delta = time() - t_start\n",
    "\n",
    "print('Seconds taken to invert %d symmetric 2000x2000 matrices: %f' % (nrounds, t_delta))"
   ]
  },
  {
   "cell_type": "code",
   "execution_count": null,
   "metadata": {},
   "outputs": [],
   "source": [
    "!python python_openmp.py"
   ]
  },
  {
   "cell_type": "markdown",
   "metadata": {},
   "source": [
    "#### Array Job SLURM Script"
   ]
  },
  {
   "cell_type": "raw",
   "metadata": {},
   "source": [
    "#!/bin/bash\n",
    "\n",
    "#SBATCH -J JobName\n",
    "#SBATCH -p shared             # partition (queue)\n",
    "#SBATCH -N 1                  # number of nodes\n",
    "#SBATCH -n 1                  # number of MPI tasks\n",
    "#SBATCH -c 32                 # number of cores per task = SLURM_CPUS_PER_TASK\n",
    "#SBATCH --array=1-16          # specify an array job\n",
    "#SBATCH --mem 128000          # Specify total memory per task\n",
    "#SBATCH -t 1-00:00            # time (D-HH:MM)\n",
    "#SBATCH -o Job.%N.%A.%a.out   # STDOUT\n",
    "#SBATCH -e Job.%N.%A.%a.err   # STDERR\n",
    "\n",
    "export OMP_NUM_THREADS=$SLURM_CPUS_PER_TASK\n",
    "\n",
    "export data_path=/n/holyscratch01/rc_admin/mmsh/MSTemp/$SLURM_JOB_NAME/Tetrode$SLURM_ARRAY_TASK_ID\n",
    "\n",
    "mkdir -p $data_path\n",
    "\n",
    "srun -c $SLURM_CPUS_PER_TASK python python_openmp.py"
   ]
  },
  {
   "cell_type": "markdown",
   "metadata": {},
   "source": [
    "[More Information](https://docs.rc.fas.harvard.edu/kb/parallel-computing-on-odyssey/)"
   ]
  }
 ],
 "metadata": {
  "kernelspec": {
   "display_name": "Python 3",
   "language": "python",
   "name": "python3"
  },
  "language_info": {
   "codemirror_mode": {
    "name": "ipython",
    "version": 3
   },
   "file_extension": ".py",
   "mimetype": "text/x-python",
   "name": "python",
   "nbconvert_exporter": "python",
   "pygments_lexer": "ipython3",
   "version": "3.7.9"
  }
 },
 "nbformat": 4,
 "nbformat_minor": 2
}

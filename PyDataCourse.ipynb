{
 "cells": [
  {
   "cell_type": "markdown",
   "metadata": {},
   "source": [
    "# Large Data Handling in Python Workshop\n",
    "#### Instructor: Mahmood M. Shad | Associate Director of Research Software Engineering @FAS Research Computing \n",
    "#### Date: 06/07/2021\n",
    "\n",
    "#### Resources:\n",
    "- [Python for Data Analysis](https://www.oreilly.com/library/view/python-for-data/9781491957653/)\n",
    "- [Parallel Computing on FASRC CANNON Cluster](https://docs.rc.fas.harvard.edu/kb/parallel-computing-on-odyssey/)"
   ]
  },
  {
   "cell_type": "markdown",
   "metadata": {},
   "source": [
    "## List of Topics\n",
    "- Python Data Types: Collections\n",
    "- File I/O\n",
    "- Parallel Data Processing"
   ]
  },
  {
   "cell_type": "markdown",
   "metadata": {},
   "source": [
    "### Python Data Types: Collections\n",
    "#### List Comprehensions"
   ]
  },
  {
   "cell_type": "code",
   "execution_count": 1,
   "metadata": {},
   "outputs": [
    {
     "name": "stdout",
     "output_type": "stream",
     "text": [
      "CPU times: user 7 µs, sys: 0 ns, total: 7 µs\n",
      "Wall time: 11.9 µs\n",
      "CPU times: user 11 µs, sys: 0 ns, total: 11 µs\n",
      "Wall time: 12.9 µs\n",
      "True\n"
     ]
    }
   ],
   "source": [
    "# Build sequences from other sequences\n",
    "\n",
    "l = [1, '4', 9, 'a', 0, 4, 'b', '5', 11, 'aa', 'bb', 7]\n",
    "\n",
    "%time res1 = [ x**2 for x in l if isinstance(x, int) ]\n",
    "\n",
    "# x**2                       :: output expression\n",
    "# x                          :: variable\n",
    "# l                          :: input sequence\n",
    "# if isinstance(x, int)      :: optional predicate\n",
    "\n",
    "\n",
    "# NOTE: Same results by map, filter, lambda\n",
    "# lambda(variable : equation, list)\n",
    "\n",
    "%time res2 = list(map(lambda x: x**2, filter(lambda x: isinstance(x, int), l)))\n",
    "\n",
    "\n",
    "print(res1 == res2)"
   ]
  },
  {
   "cell_type": "code",
   "execution_count": 2,
   "metadata": {},
   "outputs": [
    {
     "name": "stdout",
     "output_type": "stream",
     "text": [
      "2.15 µs ± 86.8 ns per loop (mean ± std. dev. of 7 runs, 100000 loops each)\n",
      "3.26 µs ± 171 ns per loop (mean ± std. dev. of 7 runs, 100000 loops each)\n"
     ]
    }
   ],
   "source": [
    "# %timeit vs %time\n",
    "l = [1, '4', 9, 'a', 0, 4, 'b', '5', 11, 'aa', 'bb', 7]\n",
    "\n",
    "%timeit res1 = [ x**2 for x in l if isinstance(x, int) ]\n",
    "%timeit res2 = list(map(lambda x: x**2, filter(lambda x: isinstance(x, int), l)))\n"
   ]
  },
  {
   "cell_type": "code",
   "execution_count": 5,
   "metadata": {
    "scrolled": true
   },
   "outputs": [
    {
     "name": "stdout",
     "output_type": "stream",
     "text": [
      "time the whole cell using %%time built-in function\n",
      "True\n",
      "CPU times: user 254 µs, sys: 113 µs, total: 367 µs\n",
      "Wall time: 334 µs\n"
     ]
    }
   ],
   "source": [
    "%%time\n",
    "\n",
    "print(\"time the whole cell using %%time built-in function\")\n",
    "l = [1, '4', 9, 'a', 0, 4, 'b', '5', 11, 'aa', 'bb', 7]\n",
    "\n",
    "res1 = [ x**2 for x in l if isinstance(x, int) ]\n",
    "res2 = list(map(lambda x: x**2, filter(lambda x: isinstance(x, int), l)))\n",
    "print(res1 == res2)"
   ]
  },
  {
   "cell_type": "code",
   "execution_count": 6,
   "metadata": {},
   "outputs": [
    {
     "name": "stdout",
     "output_type": "stream",
     "text": [
      "time the whole cell using %%time built-in function\n",
      "True\n",
      " "
     ]
    }
   ],
   "source": [
    "%%prun\n",
    "\n",
    "print(\"time the whole cell using %%time built-in function\")\n",
    "l = [1, '4', 9, 'a', 0, 4, 'b', '5', 11, 'aa', 'bb', 7]\n",
    "\n",
    "res1 = [ x**2 for x in l if isinstance(x, int) ]\n",
    "res2 = list(map(lambda x: x**2, filter(lambda x: isinstance(x, int), l)))\n",
    "print(res1 == res2)"
   ]
  },
  {
   "cell_type": "markdown",
   "metadata": {},
   "source": [
    "**NOTE:** Read more about the built-in magic commands in `IPython` [here](https://ipython.readthedocs.io/en/stable/interactive/magics.html). "
   ]
  },
  {
   "cell_type": "code",
   "execution_count": 7,
   "metadata": {},
   "outputs": [],
   "source": [
    "%load_ext snakeviz"
   ]
  },
  {
   "cell_type": "code",
   "execution_count": 8,
   "metadata": {},
   "outputs": [],
   "source": [
    "def test():\n",
    "    l = [1, '4', 9, 'a', 0, 4, 'b', '5', 11, 'aa', 'bb', 7]\n",
    "\n",
    "    res1 = [ x**2 for x in l if isinstance(x, int) ]\n",
    "    res2 = list(map(lambda x: x**2, filter(lambda x: isinstance(x, int), l)))\n",
    "    print(res1 == res2)"
   ]
  },
  {
   "cell_type": "code",
   "execution_count": 9,
   "metadata": {},
   "outputs": [
    {
     "name": "stdout",
     "output_type": "stream",
     "text": [
      "True\n",
      " \n",
      "*** Profile stats marshalled to file '/var/folders/_c/6tgj_rc57nv5066769brrsym0000gn/T/tmpg4ys64fe'. \n",
      "Embedding SnakeViz in this document...\n"
     ]
    },
    {
     "data": {
      "text/html": [
       "\n",
       "<iframe id='snakeviz-b6471684-c7c6-11eb-a462-acde48001122' frameborder=0 seamless width='100%' height='1000'></iframe>\n",
       "<script>document.getElementById(\"snakeviz-b6471684-c7c6-11eb-a462-acde48001122\").setAttribute(\"src\", \"http://\" + document.location.hostname + \":8080/snakeviz/%2Fvar%2Ffolders%2F_c%2F6tgj_rc57nv5066769brrsym0000gn%2FT%2Ftmpg4ys64fe\")</script>\n"
      ],
      "text/plain": [
       "<IPython.core.display.HTML object>"
      ]
     },
     "metadata": {},
     "output_type": "display_data"
    }
   ],
   "source": [
    "%snakeviz test()"
   ]
  },
  {
   "cell_type": "code",
   "execution_count": 10,
   "metadata": {},
   "outputs": [
    {
     "name": "stdout",
     "output_type": "stream",
     "text": [
      "CPU times: user 60 µs, sys: 3 µs, total: 63 µs\n",
      "Wall time: 66 µs\n"
     ]
    },
    {
     "data": {
      "text/plain": [
       "[(1, 4), (2, 5), (3, 6)]"
      ]
     },
     "execution_count": 10,
     "metadata": {},
     "output_type": "execute_result"
    }
   ],
   "source": [
    "%%time\n",
    "\n",
    "# Nested Comprehensions\n",
    "[ [ 1 if i == row_i else 0 for i in range(0, 10) ] for row_i in range(0, 10) ]\n",
    "\n",
    "# Use zip() to work with two or more elements at a time\n",
    "[(v,w) for v,w in zip([1,2,3], [4,5,6])]"
   ]
  },
  {
   "cell_type": "markdown",
   "metadata": {},
   "source": [
    "#### Set Comprehensions\n",
    "Similar to list comprehensions but it outputs sets."
   ]
  },
  {
   "cell_type": "code",
   "execution_count": 11,
   "metadata": {},
   "outputs": [
    {
     "name": "stdout",
     "output_type": "stream",
     "text": [
      "{0, 1, 4, 5, 9, 'bb', 'aa'}\n"
     ]
    }
   ],
   "source": [
    "l = [1, 4, 9, 'aa', 0, 4, 'bb', 5, 5, 'aa', 'bb', 1]\n",
    "res = {i for i in l}\n",
    "print(res)"
   ]
  },
  {
   "cell_type": "markdown",
   "metadata": {},
   "source": [
    "#### Dictionary Comprehensions\n",
    "Similar to list comprehensions but it outputs dictionaries."
   ]
  },
  {
   "cell_type": "code",
   "execution_count": 12,
   "metadata": {},
   "outputs": [
    {
     "name": "stdout",
     "output_type": "stream",
     "text": [
      "{'b': 20, 'c': 40, 'B': 50, 'Z': 30}\n",
      "{'b': 70, 'c': 40, 'z': 30}\n"
     ]
    }
   ],
   "source": [
    "# Get frequency of keys and ignore lowercase/uppercase\n",
    "d = {'b':20, 'c': 40, 'B': 50, 'Z':30}\n",
    "\n",
    "d_freq = { i.lower() : d.get(i.lower(), 0) + d.get(i.upper(), 0) for i in d.keys() }\n",
    "\n",
    "print(d)\n",
    "print(d_freq)"
   ]
  },
  {
   "cell_type": "markdown",
   "metadata": {},
   "source": [
    "#### Function map(), apply(), applymap()"
   ]
  },
  {
   "cell_type": "code",
   "execution_count": 13,
   "metadata": {},
   "outputs": [
    {
     "name": "stdout",
     "output_type": "stream",
     "text": [
      "CPU times: user 33.4 ms, sys: 2.3 ms, total: 35.7 ms\n",
      "Wall time: 35.2 ms\n",
      "CPU times: user 30.9 ms, sys: 1.36 ms, total: 32.3 ms\n",
      "Wall time: 32.2 ms\n",
      "[['c', 'a', 't'], ['d', 'o', 'g'], ['b', 'i', 'r', 'd'], ['h', 'o', 'r', 's', 'e']]\n"
     ]
    }
   ],
   "source": [
    "def xsq(x):\n",
    "    return x**2\n",
    "\n",
    "l1 = [i for i in range(10**5)]\n",
    "\n",
    "%time list(map(xsq, l1))\n",
    "%time list(map(lambda x: x**2, l1))\n",
    "\n",
    "\n",
    "l2 = ['cat', 'dog', 'bird', 'horse']\n",
    "print(list(map(list,l2)))"
   ]
  },
  {
   "cell_type": "code",
   "execution_count": 14,
   "metadata": {},
   "outputs": [
    {
     "name": "stdout",
     "output_type": "stream",
     "text": [
      "0      5.10\n",
      "1      4.90\n",
      "2      4.70\n",
      "3      4.60\n",
      "4      5.00\n",
      "       ... \n",
      "145    6.70\n",
      "146    6.30\n",
      "147    6.50\n",
      "148    6.20\n",
      "149    5.90\n",
      "Length: 150, dtype: object\n",
      "CPU times: user 1.48 ms, sys: 79 µs, total: 1.56 ms\n",
      "Wall time: 1.57 ms\n",
      "0      5.10\n",
      "1      4.90\n",
      "2      4.70\n",
      "3      4.60\n",
      "4      5.00\n",
      "       ... \n",
      "145    6.70\n",
      "146    6.30\n",
      "147    6.50\n",
      "148    6.20\n",
      "149    5.90\n",
      "Name: sepal_length, Length: 150, dtype: object\n",
      "CPU times: user 1.34 ms, sys: 146 µs, total: 1.48 ms\n",
      "Wall time: 1.45 ms\n",
      "    sepal_length sepal_width petal_length petal_width\n",
      "0           5.10        3.50         1.40        0.20\n",
      "1           4.90        3.00         1.40        0.20\n",
      "2           4.70        3.20         1.30        0.20\n",
      "3           4.60        3.10         1.50        0.20\n",
      "4           5.00        3.60         1.40        0.20\n",
      "..           ...         ...          ...         ...\n",
      "145         6.70        3.00         5.20        2.30\n",
      "146         6.30        2.50         5.00        1.90\n",
      "147         6.50        3.00         5.20        2.00\n",
      "148         6.20        3.40         5.40        2.30\n",
      "149         5.90        3.00         5.10        1.80\n",
      "\n",
      "[150 rows x 4 columns]\n",
      "CPU times: user 5.53 ms, sys: 598 µs, total: 6.13 ms\n",
      "Wall time: 5.94 ms\n",
      "sepal_length    3.6\n",
      "sepal_width     2.4\n",
      "petal_length    5.9\n",
      "petal_width     2.4\n",
      "dtype: float64\n",
      "CPU times: user 1.85 ms, sys: 133 µs, total: 1.99 ms\n",
      "Wall time: 1.94 ms\n"
     ]
    }
   ],
   "source": [
    "# dataframe map\n",
    "import pandas as pd\n",
    "df = pd.read_csv(\"https://gist.githubusercontent.com/curran/a08a1080b88344b0c8a7/raw/0e7a9b0a5d22642a06d3d5b9bcbad9890c8ee534/iris.csv\")\n",
    "del df['species']\n",
    "\n",
    "f = lambda x: x.max() - x.min()\n",
    "format = lambda x: '%.2f' % x\n",
    "\n",
    "# map() function\n",
    "%time print ( pd.Series(map(format, df['sepal_length'])) ) \n",
    "\n",
    "# map works element-wise on a series\n",
    "%time print( df['sepal_length'].map(format) )\n",
    "\n",
    "# applymap works element-wise on a dataframe\n",
    "%time print ( df.applymap(format) )\n",
    "\n",
    "# apply works on row/column basis\n",
    "%time print ( df.apply(f, axis=0) )    # 0: column, 1: row"
   ]
  },
  {
   "cell_type": "code",
   "execution_count": 15,
   "metadata": {},
   "outputs": [
    {
     "data": {
      "application/vnd.jupyter.widget-view+json": {
       "model_id": "3a2c63d025964de8910d5ddf1a58479a",
       "version_major": 2,
       "version_minor": 0
      },
      "text/plain": [
       "Output()"
      ]
     },
     "metadata": {},
     "output_type": "display_data"
    },
    {
     "data": {
      "image/png": "[encoded data removed]",
      "text/plain": [
       "<Figure size 432x288 with 1 Axes>"
      ]
     },
     "metadata": {
      "needs_background": "dark"
     },
     "output_type": "display_data"
    }
   ],
   "source": [
    "# Example on numpy array\n",
    "\n",
    "import numpy as np\n",
    "import perfplot\n",
    "import math\n",
    "\n",
    "def f(x):\n",
    "    # return math.sqrt(x)\n",
    "    return np.sqrt(x)\n",
    "\n",
    "vf = np.vectorize(f)\n",
    "\n",
    "def array_for(x):\n",
    "    return np.array([f(xi) for xi in x])\n",
    "\n",
    "def array_map(x):\n",
    "    return np.array(list(map(f, x)))\n",
    "\n",
    "def fromiter(x):\n",
    "    return np.fromiter((f(xi) for xi in x), x.dtype)\n",
    "\n",
    "def vectorize(x):\n",
    "    return np.vectorize(f)(x)\n",
    "\n",
    "def vectorize_without_init(x):\n",
    "    return vf(x)\n",
    "\n",
    "perfplot.show(\n",
    "    setup=lambda n: np.random.rand(n),\n",
    "    n_range=[2 ** k for k in range(10)],\n",
    "    kernels=[f, array_for, array_map, fromiter, vectorize, vectorize_without_init],\n",
    "    xlabel=\"len(x)\",\n",
    ")"
   ]
  },
  {
   "cell_type": "markdown",
   "metadata": {},
   "source": [
    "#### Iterators & Generators"
   ]
  },
  {
   "cell_type": "code",
   "execution_count": 16,
   "metadata": {},
   "outputs": [
    {
     "name": "stdout",
     "output_type": "stream",
     "text": [
      "1\n",
      "20\n"
     ]
    }
   ],
   "source": [
    "# Iterators\n",
    "\n",
    "l = [1, 20, 3, 40, 5, 60]\n",
    "it = iter(l)\n",
    "\n",
    "print( next(it) )\n",
    "print( it.__next__() )"
   ]
  },
  {
   "cell_type": "code",
   "execution_count": 17,
   "metadata": {},
   "outputs": [
    {
     "name": "stdout",
     "output_type": "stream",
     "text": [
      "Next random number is: 172\n",
      "Next random number is: 131\n",
      "Next random number is: 178\n",
      "Next random number is: 183\n"
     ]
    }
   ],
   "source": [
    "# Generators\n",
    "import random\n",
    "\n",
    "def lot():\n",
    "    for i in range(4):\n",
    "        yield random.randint(100, 200)\n",
    "\n",
    "for r in lot():\n",
    "       print(\"Next random number is: %d\" %(r))"
   ]
  },
  {
   "cell_type": "markdown",
   "metadata": {},
   "source": [
    "### I/O Operation\n",
    "We want efficiency and flexibility in I/O operations!\n",
    "- Pickle (serialized storage)\n",
    "- I/O on Text\n",
    "- SQL Database\n",
    "- PyTables I/O Operations"
   ]
  },
  {
   "cell_type": "markdown",
   "metadata": {},
   "source": [
    "#### Pickle :: Serialized storage"
   ]
  },
  {
   "cell_type": "code",
   "execution_count": 18,
   "metadata": {},
   "outputs": [
    {
     "name": "stdout",
     "output_type": "stream",
     "text": [
      "CPU times: user 19.4 ms, sys: 7.57 ms, total: 26.9 ms\n",
      "Wall time: 26.9 ms\n",
      "CPU times: user 26.2 ms, sys: 13.2 ms, total: 39.4 ms\n",
      "Wall time: 39.8 ms\n"
     ]
    },
    {
     "data": {
      "text/plain": [
       "True"
      ]
     },
     "execution_count": 18,
     "metadata": {},
     "output_type": "execute_result"
    }
   ],
   "source": [
    "# pickle module serializes the python object for faster r/w.\n",
    "import pickle\n",
    "import numpy as np\n",
    "from random import gauss\n",
    "\n",
    "dat1 = [gauss(1.5, 2) for i in range(1000000)]\n",
    "\n",
    "file = open(\"ser_data.pkl\", 'wb')\n",
    "\n",
    "# data variable is serialized to a \"byte stream\" and dumped to disk\n",
    "%time pickle.dump(dat1, file)\n",
    "\n",
    "# retrieving deserialized data from pickle file\n",
    "%time dat2 = pickle.load(open( \"ser_data.pkl\", \"rb\" ))\n",
    "\n",
    "np.allclose(np.array(dat1), np.array(dat2), rtol=1e-05, atol=1e-08)  # relative / absolute"
   ]
  },
  {
   "cell_type": "code",
   "execution_count": 19,
   "metadata": {},
   "outputs": [
    {
     "name": "stdout",
     "output_type": "stream",
     "text": [
      "CPU times: user 801 ms, sys: 31.1 ms, total: 832 ms\n",
      "Wall time: 852 ms\n"
     ]
    }
   ],
   "source": [
    "%%time\n",
    "with open('nonser_data.dat', 'w') as f:\n",
    "    for item in dat1:\n",
    "        f.write(\"%s\\n\" % item)"
   ]
  },
  {
   "cell_type": "markdown",
   "metadata": {},
   "source": [
    "#### I/O on Text\n",
    "Pandas library is preferred over built-in Python commands for text data processing.  \n",
    "Formats: JSON, SQL, CSV, XLS/XLSX, HTML"
   ]
  },
  {
   "cell_type": "code",
   "execution_count": 20,
   "metadata": {},
   "outputs": [
    {
     "name": "stdout",
     "output_type": "stream",
     "text": [
      "CPU times: user 2.17 ms, sys: 837 µs, total: 3.01 ms\n",
      "Wall time: 3.14 ms\n",
      "CPU times: user 1.95 ms, sys: 329 µs, total: 2.28 ms\n",
      "Wall time: 2.94 ms\n"
     ]
    }
   ],
   "source": [
    "import pandas as pd\n",
    "df = pd.read_csv(\"https://gist.githubusercontent.com/curran/a08a1080b88344b0c8a7/raw/0e7a9b0a5d22642a06d3d5b9bcbad9890c8ee534/iris.csv\")\n",
    "\n",
    "%time df.to_csv('csvdata.csv')\n",
    "\n",
    "# And to read the files back from the disk\n",
    "%time dat3 = pd.read_csv('csvdata.csv')"
   ]
  },
  {
   "cell_type": "markdown",
   "metadata": {},
   "source": [
    "#### SQL Database\n",
    "Python supports both SQL and NoSQL databases. It support SQL through its SQLite3."
   ]
  },
  {
   "cell_type": "code",
   "execution_count": 21,
   "metadata": {},
   "outputs": [],
   "source": [
    "import sqlite3 as sq\n",
    "\n",
    "# Creating table\n",
    "query = 'CREATE TABLE TEST_TABLE (N1 real, N2 real, N3 real)'\n",
    "con = sq.connect('test_sqldb.db')\n",
    "con.execute(query)\n",
    "con.commit()"
   ]
  },
  {
   "cell_type": "code",
   "execution_count": 22,
   "metadata": {},
   "outputs": [
    {
     "name": "stdout",
     "output_type": "stream",
     "text": [
      "CPU times: user 3.65 s, sys: 53.1 ms, total: 3.71 s\n",
      "Wall time: 3.78 s\n"
     ]
    }
   ],
   "source": [
    "%%time\n",
    "\n",
    "# Saving data \n",
    "data = np.random.standard_normal((1000000, 3))\n",
    "\n",
    "con.executemany('INSERT INTO TEST_TABLE VALUES (?, ?, ?)', data)\n",
    "con.commit()"
   ]
  },
  {
   "cell_type": "code",
   "execution_count": 23,
   "metadata": {},
   "outputs": [
    {
     "name": "stdout",
     "output_type": "stream",
     "text": [
      "CPU times: user 835 ms, sys: 47 ms, total: 882 ms\n",
      "Wall time: 882 ms\n"
     ]
    },
    {
     "data": {
      "text/plain": [
       "(0.20656556817480726, 0.7511987370953016, -2.4134569285570473)"
      ]
     },
     "execution_count": 23,
     "metadata": {},
     "output_type": "execute_result"
    }
   ],
   "source": [
    "%%time\n",
    "# Reading data is faster\n",
    "con.execute('SELECT * FROM TEST_TABLE').fetchall()[0]"
   ]
  },
  {
   "cell_type": "code",
   "execution_count": 24,
   "metadata": {},
   "outputs": [
    {
     "name": "stdout",
     "output_type": "stream",
     "text": [
      "CPU times: user 436 ms, sys: 12.3 ms, total: 448 ms\n",
      "Wall time: 447 ms\n"
     ]
    },
    {
     "data": {
      "text/plain": [
       "array([ 1.627, -0.524, -0.41 ])"
      ]
     },
     "execution_count": 24,
     "metadata": {},
     "output_type": "execute_result"
    }
   ],
   "source": [
    "%%time\n",
    "# Save directly to Numpy\n",
    "np_query = 'SELECT * FROM TEST_TABLE WHERE N1 > 0 AND N2 < 0'\n",
    "np.array(con.execute(np_query).fetchall()).round(3)[0]"
   ]
  },
  {
   "cell_type": "code",
   "execution_count": 25,
   "metadata": {},
   "outputs": [
    {
     "name": "stdout",
     "output_type": "stream",
     "text": [
      "CPU times: user 22.7 ms, sys: 13.8 ms, total: 36.4 ms\n",
      "Wall time: 2.06 s\n"
     ]
    },
    {
     "data": {
      "text/html": [
       "<div>\n",
       "<style scoped>\n",
       "    .dataframe tbody tr th:only-of-type {\n",
       "        vertical-align: middle;\n",
       "    }\n",
       "\n",
       "    .dataframe tbody tr th {\n",
       "        vertical-align: top;\n",
       "    }\n",
       "\n",
       "    .dataframe thead th {\n",
       "        text-align: right;\n",
       "    }\n",
       "</style>\n",
       "<table border=\"1\" class=\"dataframe\">\n",
       "  <thead>\n",
       "    <tr style=\"text-align: right;\">\n",
       "      <th></th>\n",
       "      <th>N1</th>\n",
       "      <th>N2</th>\n",
       "      <th>N3</th>\n",
       "    </tr>\n",
       "  </thead>\n",
       "  <tbody>\n",
       "    <tr>\n",
       "      <th>1</th>\n",
       "      <td>1.626616</td>\n",
       "      <td>-0.524010</td>\n",
       "      <td>-0.409534</td>\n",
       "    </tr>\n",
       "    <tr>\n",
       "      <th>6</th>\n",
       "      <td>1.011258</td>\n",
       "      <td>-1.118745</td>\n",
       "      <td>0.513841</td>\n",
       "    </tr>\n",
       "    <tr>\n",
       "      <th>14</th>\n",
       "      <td>0.134428</td>\n",
       "      <td>-0.967971</td>\n",
       "      <td>0.765887</td>\n",
       "    </tr>\n",
       "    <tr>\n",
       "      <th>19</th>\n",
       "      <td>1.073425</td>\n",
       "      <td>-0.157237</td>\n",
       "      <td>-0.808501</td>\n",
       "    </tr>\n",
       "    <tr>\n",
       "      <th>22</th>\n",
       "      <td>1.801634</td>\n",
       "      <td>-0.419612</td>\n",
       "      <td>-1.161708</td>\n",
       "    </tr>\n",
       "  </tbody>\n",
       "</table>\n",
       "</div>"
      ],
      "text/plain": [
       "          N1        N2        N3\n",
       "1   1.626616 -0.524010 -0.409534\n",
       "6   1.011258 -1.118745  0.513841\n",
       "14  0.134428 -0.967971  0.765887\n",
       "19  1.073425 -0.157237 -0.808501\n",
       "22  1.801634 -0.419612 -1.161708"
      ]
     },
     "execution_count": 25,
     "metadata": {},
     "output_type": "execute_result"
    }
   ],
   "source": [
    "# load data directly to Pandas data format\n",
    "import pandas.io.sql as pds\n",
    "df = pds.read_sql('SELECT * FROM TEST_TABLE', con)\n",
    "\n",
    "# Much faster with Pandas in-memory processing\n",
    "%time df[(df['N1'] > 0) & (df['N2'] < 0)].head()\n",
    "\n",
    "# NOTE: Pandas CANNOT completely replaces SQL."
   ]
  },
  {
   "cell_type": "markdown",
   "metadata": {},
   "source": [
    "#### PyTables I/O Operations\n",
    "PyTables is a Python binding for the HDF5 format."
   ]
  },
  {
   "cell_type": "code",
   "execution_count": 26,
   "metadata": {},
   "outputs": [
    {
     "name": "stdout",
     "output_type": "stream",
     "text": [
      "/ints (Table(0,)) 'Integers'\n"
     ]
    }
   ],
   "source": [
    "import tables as tb\n",
    "file = 'tab.h5'\n",
    "h5 = tb.open_file(file, 'w')\n",
    "\n",
    "# creating rows for the db\n",
    "rows = 2000000\n",
    "table_model = { 'N1': tb.IntCol(pos=1), 'N2': tb.IntCol(pos=2) }\n",
    "filters = tb.Filters(complevel=0)  # no compression \n",
    "table = h5.create_table('/', 'ints', table_model, title='Integers', expectedrows=rows, filters=filters)\n",
    "\n",
    "print(table)"
   ]
  },
  {
   "cell_type": "code",
   "execution_count": 27,
   "metadata": {},
   "outputs": [
    {
     "name": "stdout",
     "output_type": "stream",
     "text": [
      "/ints (Table(2000000,)) 'Integers'\n",
      "CPU times: user 1.31 s, sys: 14 ms, total: 1.32 s\n",
      "Wall time: 1.32 s\n"
     ]
    }
   ],
   "source": [
    "%%time\n",
    "# populate table with random numbers\n",
    "ran_int = np.random.randint(0, 10000, size=(rows, 2))\n",
    "\n",
    "pointer = table.row              # get a pointer to the Row\n",
    "for i in range(rows):\n",
    "  pointer['N1'] = ran_int[i, 0]\n",
    "  pointer['N2'] = ran_int[i, 1]\n",
    "  pointer.append()               # append data and move pointer one row\n",
    "table.flush()\n",
    "\n",
    "print(table)"
   ]
  },
  {
   "cell_type": "code",
   "execution_count": 28,
   "metadata": {},
   "outputs": [
    {
     "name": "stdout",
     "output_type": "stream",
     "text": [
      "tab.h5 (File) ''\n",
      "Last modif.: 'Mon Jun  7 15:31:51 2021'\n",
      "Object Tree: \n",
      "/ (RootGroup) ''\n",
      "/ints (Table(2000000,)) 'Integers'\n",
      "/np_array (Table(2000000,)) 'Integers'\n",
      "\n",
      "CPU times: user 6.52 ms, sys: 4.64 ms, total: 11.2 ms\n",
      "Wall time: 9.61 ms\n"
     ]
    }
   ],
   "source": [
    "%%time\n",
    "\n",
    "# Using Numpy structured array   :: FASTER\n",
    "dty = np.dtype([('N1', 'i4'), ('N2', '<i4')])\n",
    "sarray = np.zeros(len(ran_int), dtype=dty)\n",
    "\n",
    "h5.create_table('/', 'np_array', sarray, title='Integers', expectedrows=rows, filters=filters)\n",
    "print(h5)"
   ]
  },
  {
   "cell_type": "code",
   "execution_count": 29,
   "metadata": {},
   "outputs": [
    {
     "name": "stdout",
     "output_type": "stream",
     "text": [
      "tab.h5 (File) ''\n",
      "Last modif.: 'Mon Jun  7 15:31:53 2021'\n",
      "Object Tree: \n",
      "/ (RootGroup) ''\n",
      "/ints (Table(2000000,)) 'Integers'\n",
      "\n"
     ]
    }
   ],
   "source": [
    "# delete duplicate table\n",
    "\n",
    "h5.remove_node('/', 'np_array')\n",
    "print(h5)"
   ]
  },
  {
   "cell_type": "code",
   "execution_count": 30,
   "metadata": {},
   "outputs": [],
   "source": [
    "# close it before re-opening again\n",
    "h5.close()"
   ]
  },
  {
   "cell_type": "markdown",
   "metadata": {},
   "source": [
    "**NOTE**: Pandas and PyTables are optimized speed for **I/O** operations.\n",
    "\n",
    "**Question**: When I should use `SQL databases` over `NumPy ndarray-based` or `pandas DataFrame-based` methods?\n"
   ]
  },
  {
   "cell_type": "markdown",
   "metadata": {},
   "source": [
    "### Parallel Processing\n",
    "Python packages such as Numpy, Scipy and Pandas utilize `OpenMP` to run on multiple CPUs on a shared-memory space.\n",
    "\n",
    "- **`-N`**: number of Nodes\n",
    "- **`--ntasks` or `n`**: number of instances of your command being executed (number of MPI ranks for a common cluster)\n",
    "- **`--cpus-per-task` or `c`**: how many CPU cores each task can use, *${SLURM_CPUS_PER_TASK}*\n",
    "\n",
    "Parallel Job Categories:\n",
    "- Fine grained\n",
    "- Coarse grained\n",
    "- Embarrassingly Parallel\n",
    "\n",
    "Terms:\n",
    "- **MPI**      : multiple CPU cores in same/different nodes working independently and communicating on demand\n",
    "- **Threads**  : Python libraries using mulithreading :: Numpy, Scipy, Pandas\n",
    "- **Tasks**    : Processing too many data files :: csv, HDF5"
   ]
  },
  {
   "cell_type": "code",
   "execution_count": 31,
   "metadata": {},
   "outputs": [
    {
     "name": "stderr",
     "output_type": "stream",
     "text": [
      "UsageError: Environment does not have key: SLURM_CPUS_PER_TASK\n"
     ]
    }
   ],
   "source": [
    "# Get # of CPU cores per task\n",
    "\n",
    "%env SLURM_CPUS_PER_TASK"
   ]
  },
  {
   "cell_type": "code",
   "execution_count": 32,
   "metadata": {},
   "outputs": [
    {
     "name": "stdout",
     "output_type": "stream",
     "text": [
      "Using 1 processors\n",
      "Seconds taken to invert 5 symmetric 2000x2000 matrices: 12.944774\n"
     ]
    }
   ],
   "source": [
    "import os\n",
    "from time import time\n",
    "import numpy as np\n",
    "\n",
    "print('Using %d processors' % int(os.getenv('SLURM_CPUS_PER_TASK',1)))\n",
    "\n",
    "nrounds = 5\n",
    "\n",
    "t_start = time()\n",
    "\n",
    "for i in range(nrounds):\n",
    "    a = np.random.random([2000,2000])\n",
    "    a = a + a.T\n",
    "    b = np.linalg.pinv(a) # compute (Moore-Penrose) pseudo-inverse of a matrix\n",
    "\n",
    "t_delta = time() - t_start\n",
    "\n",
    "print('Seconds taken to invert %d symmetric 2000x2000 matrices: %f' % (nrounds, t_delta))"
   ]
  },
  {
   "cell_type": "code",
   "execution_count": 33,
   "metadata": {},
   "outputs": [
    {
     "name": "stdout",
     "output_type": "stream",
     "text": [
      "Using 1 processors\n",
      "Seconds taken to invert 5 symmetric 2000x2000 matrices: 13.416787\n"
     ]
    }
   ],
   "source": [
    "!python python_openmp.py"
   ]
  },
  {
   "cell_type": "markdown",
   "metadata": {},
   "source": [
    "#### Array Job SLURM Script"
   ]
  },
  {
   "cell_type": "raw",
   "metadata": {},
   "source": [
    "#!/bin/bash\n",
    "\n",
    "#SBATCH -J JobName\n",
    "#SBATCH -p shared             # partition (queue)\n",
    "#SBATCH -N 1                  # number of nodes\n",
    "#SBATCH -n 1                  # number of MPI tasks\n",
    "#SBATCH -c 32                 # number of cores per task = SLURM_CPUS_PER_TASK\n",
    "#SBATCH --array=1-16          # specify an array job\n",
    "#SBATCH --mem 128000          # Specify total memory per task\n",
    "#SBATCH -t 1-00:00            # time (D-HH:MM)\n",
    "#SBATCH -o Job.%N.%A.%a.out   # STDOUT\n",
    "#SBATCH -e Job.%N.%A.%a.err   # STDERR\n",
    "\n",
    "export OMP_NUM_THREADS=$SLURM_CPUS_PER_TASK\n",
    "\n",
    "export data_path=/n/holyscratch01/rc_admin/mmsh/MSTemp/$SLURM_JOB_NAME/Tetrode$SLURM_ARRAY_TASK_ID\n",
    "\n",
    "mkdir -p $data_path\n",
    "\n",
    "srun -c $SLURM_CPUS_PER_TASK python python_openmp.py"
   ]
  },
  {
   "cell_type": "markdown",
   "metadata": {},
   "source": [
    "[More Information](https://docs.rc.fas.harvard.edu/kb/parallel-computing-on-odyssey/)"
   ]
  }
 ],
 "metadata": {
  "kernelspec": {
   "display_name": "Python 3",
   "language": "python",
   "name": "python3"
  },
  "language_info": {
   "codemirror_mode": {
    "name": "ipython",
    "version": 3
   },
   "file_extension": ".py",
   "mimetype": "text/x-python",
   "name": "python",
   "nbconvert_exporter": "python",
   "pygments_lexer": "ipython3",
   "version": "3.7.9"
  }
 },
 "nbformat": 4,
 "nbformat_minor": 2
}
